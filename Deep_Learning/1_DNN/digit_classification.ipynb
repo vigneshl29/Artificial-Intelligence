{
  "nbformat": 4,
  "nbformat_minor": 0,
  "metadata": {
    "colab": {
      "name": "digit_classify.ipynb",
      "provenance": [],
      "collapsed_sections": []
    },
    "kernelspec": {
      "name": "python3",
      "display_name": "Python 3"
    },
    "accelerator": "GPU"
  },
  "cells": [
    {
      "cell_type": "code",
      "metadata": {
        "id": "r78WYaX7KQua",
        "colab_type": "code",
        "colab": {}
      },
      "source": [
        "import warnings\n",
        "warnings.filterwarnings('ignore')\n",
        "import numpy as np\n",
        "import matplotlib.pyplot as plt\n",
        "import keras\n",
        "from keras.datasets import mnist\n",
        "from keras.models import Sequential,model_from_json\n",
        "from keras.layers import Dense\n",
        "from keras.optimizers import RMSprop\n",
        "import pylab as plt"
      ],
      "execution_count": 0,
      "outputs": []
    },
    {
      "cell_type": "code",
      "metadata": {
        "id": "75rGJJ_DLyi8",
        "colab_type": "code",
        "colab": {
          "base_uri": "https://localhost:8080/",
          "height": 51
        },
        "outputId": "1454251e-bd79-4027-df87-a0821b5f5ef6"
      },
      "source": [
        "batch_size = 128\n",
        "output_count = 10\n",
        "epochs = 8\n",
        "#training and test data split\n",
        "(x_train,y_train),(x_test,y_test) = mnist.load_data()\n",
        "x_train = x_train.reshape(60000,784)\n",
        "x_test = x_test.reshape(10000,784)\n",
        "x_train = x_train.astype('float32')\n",
        "x_test = x_test.astype('float32')\n",
        "#Normalization between 0 and 1\n",
        "x_train = x_train/255\n",
        "x_test = x_test/255\n",
        "print(x_train.shape[0],'train samples')\n",
        "print(x_test.shape[0],'test samples')\n",
        "#converting output vectors to one hot encoding\n",
        "y_train = keras.utils.to_categorical(y_train,output_count)\n",
        "y_test = keras.utils.to_categorical(y_test,output_count)"
      ],
      "execution_count": 169,
      "outputs": [
        {
          "output_type": "stream",
          "text": [
            "60000 train samples\n",
            "10000 test samples\n"
          ],
          "name": "stdout"
        }
      ]
    },
    {
      "cell_type": "code",
      "metadata": {
        "id": "_YHj1pyEN4N9",
        "colab_type": "code",
        "colab": {
          "base_uri": "https://localhost:8080/",
          "height": 282
        },
        "outputId": "9991aaf8-89d3-4e97-9cb8-93a84ec78dbd"
      },
      "source": [
        "#visualizing some random data\n",
        "print(\"Label\", y_test[2:3])\n",
        "plt.imshow(x_test[2:3].reshape(28,28),cmap=\"gray\")\n",
        "plt.show()"
      ],
      "execution_count": 170,
      "outputs": [
        {
          "output_type": "stream",
          "text": [
            "Label [[0. 1. 0. 0. 0. 0. 0. 0. 0. 0.]]\n"
          ],
          "name": "stdout"
        },
        {
          "output_type": "display_data",
          "data": {
            "image/png": "[encoded data removed]",
            "text/plain": [
              "<Figure size 432x288 with 1 Axes>"
            ]
          },
          "metadata": {
            "tags": []
          }
        }
      ]
    },
    {
      "cell_type": "code",
      "metadata": {
        "id": "kKuEU9KDQeFC",
        "colab_type": "code",
        "colab": {
          "base_uri": "https://localhost:8080/",
          "height": 289
        },
        "outputId": "4df53098-c726-425b-d1c9-6d2cf90823c2"
      },
      "source": [
        "#Model - design\n",
        "layer_size_1 = 32\n",
        "model = Sequential()\n",
        "model.add(Dense(layer_size_1,activation=\"sigmoid\",input_shape=(784,)))\n",
        "model.add(Dense(32,activation=\"sigmoid\"))\n",
        "model.add(Dense(32,activation=\"sigmoid\"))\n",
        "model.add(Dense(output_count,activation=\"softmax\"))\n",
        "model.summary()"
      ],
      "execution_count": 171,
      "outputs": [
        {
          "output_type": "stream",
          "text": [
            "Model: \"sequential_13\"\n",
            "_________________________________________________________________\n",
            "Layer (type)                 Output Shape              Param #   \n",
            "=================================================================\n",
            "dense_45 (Dense)             (None, 32)                25120     \n",
            "_________________________________________________________________\n",
            "dense_46 (Dense)             (None, 32)                1056      \n",
            "_________________________________________________________________\n",
            "dense_47 (Dense)             (None, 32)                1056      \n",
            "_________________________________________________________________\n",
            "dense_48 (Dense)             (None, 10)                330       \n",
            "=================================================================\n",
            "Total params: 27,562\n",
            "Trainable params: 27,562\n",
            "Non-trainable params: 0\n",
            "_________________________________________________________________\n"
          ],
          "name": "stdout"
        }
      ]
    },
    {
      "cell_type": "code",
      "metadata": {
        "id": "wmcizTFiRgUC",
        "colab_type": "code",
        "colab": {
          "base_uri": "https://localhost:8080/",
          "height": 306
        },
        "outputId": "7d1a9172-c266-4143-ae45-b060de18e321"
      },
      "source": [
        "#compililation\n",
        "model.compile(optimizer=RMSprop(),loss=\"categorical_crossentropy\",metrics=['accuracy'])\n",
        "\n",
        "#Training\n",
        "model.fit(x_train,y_train,batch_size=batch_size,epochs=epochs,verbose=1)"
      ],
      "execution_count": 172,
      "outputs": [
        {
          "output_type": "stream",
          "text": [
            "Epoch 1/8\n",
            "60000/60000 [==============================] - 3s 51us/step - loss: 1.6596 - acc: 0.4857\n",
            "Epoch 2/8\n",
            "60000/60000 [==============================] - 3s 43us/step - loss: 0.7417 - acc: 0.8104\n",
            "Epoch 3/8\n",
            "60000/60000 [==============================] - 2s 40us/step - loss: 0.4022 - acc: 0.8957\n",
            "Epoch 4/8\n",
            "60000/60000 [==============================] - 2s 40us/step - loss: 0.2945 - acc: 0.9200\n",
            "Epoch 5/8\n",
            "60000/60000 [==============================] - 2s 38us/step - loss: 0.2445 - acc: 0.9325\n",
            "Epoch 6/8\n",
            "60000/60000 [==============================] - 2s 41us/step - loss: 0.2128 - acc: 0.9413\n",
            "Epoch 7/8\n",
            "60000/60000 [==============================] - 3s 42us/step - loss: 0.1903 - acc: 0.9473\n",
            "Epoch 8/8\n",
            "60000/60000 [==============================] - 2s 41us/step - loss: 0.1732 - acc: 0.9515\n"
          ],
          "name": "stdout"
        },
        {
          "output_type": "execute_result",
          "data": {
            "text/plain": [
              "<keras.callbacks.History at 0x7f0cbabe6ef0>"
            ]
          },
          "metadata": {
            "tags": []
          },
          "execution_count": 172
        }
      ]
    },
    {
      "cell_type": "code",
      "metadata": {
        "id": "ae7dBi5yS0O9",
        "colab_type": "code",
        "colab": {
          "base_uri": "https://localhost:8080/",
          "height": 51
        },
        "outputId": "baffc260-abf4-439e-8152-b1b2c7beaba5"
      },
      "source": [
        "#Testing\n",
        "score = model.evaluate(x_test,y_test,verbose=0)\n",
        "print(\"loss - test :\",score[0])\n",
        "print(\"accuracy - test :\",score[1])"
      ],
      "execution_count": 173,
      "outputs": [
        {
          "output_type": "stream",
          "text": [
            "loss - test : 0.17471441623270512\n",
            "accuracy - test : 0.9516\n"
          ],
          "name": "stdout"
        }
      ]
    },
    {
      "cell_type": "code",
      "metadata": {
        "id": "1o9RCxhETaO9",
        "colab_type": "code",
        "colab": {
          "base_uri": "https://localhost:8080/",
          "height": 51
        },
        "outputId": "487a1356-8756-4f8f-88e8-1ad163e8dde0"
      },
      "source": [
        "#Prediction\n",
        "prediction = model.predict(x_test[2:3])\n",
        "prediction  = prediction[0]\n",
        "print(\"prediction\\n\",(prediction>0.5)*1)"
      ],
      "execution_count": 174,
      "outputs": [
        {
          "output_type": "stream",
          "text": [
            "prediction\n",
            " [0 1 0 0 0 0 0 0 0 0]\n"
          ],
          "name": "stdout"
        }
      ]
    },
    {
      "cell_type": "code",
      "metadata": {
        "id": "uoZj973LURna",
        "colab_type": "code",
        "colab": {
          "base_uri": "https://localhost:8080/",
          "height": 282
        },
        "outputId": "1689babd-f2b7-4a78-8879-bed9c0e847ef"
      },
      "source": [
        "#Another Prediction\n",
        "plt.imshow(x_test[355:356].reshape(28,28), cmap=\"gray\")\n",
        "print(y_test[355:356])"
      ],
      "execution_count": 181,
      "outputs": [
        {
          "output_type": "stream",
          "text": [
            "[[0. 0. 0. 0. 0. 0. 0. 0. 1. 0.]]\n"
          ],
          "name": "stdout"
        },
        {
          "output_type": "display_data",
          "data": {
            "image/png": "[encoded data removed]",
            "text/plain": [
              "<Figure size 432x288 with 1 Axes>"
            ]
          },
          "metadata": {
            "tags": []
          }
        }
      ]
    },
    {
      "cell_type": "code",
      "metadata": {
        "id": "_y-g_ILgVj4x",
        "colab_type": "code",
        "colab": {
          "base_uri": "https://localhost:8080/",
          "height": 286
        },
        "outputId": "47ffb592-5048-40c5-eba9-b905015e37df"
      },
      "source": [
        "#Custom input\n",
        "import cv2\n",
        "import numpy as np\n",
        "from matplotlib import pyplot as plt\n",
        "\n",
        "\n",
        "#load number image\n",
        "#!pwd\n",
        "#!mkdir input_image\n",
        "image_bgr = cv2.imread('/content/input_image/digit.jpg',cv2.IMREAD_COLOR)\n",
        "#convetging to rgb\n",
        "image_rgb = cv2.cvtColor(image_bgr,cv2.COLOR_BGR2RGB)\n",
        "\n",
        "#display image\n",
        "plt.imshow(image_rgb)"
      ],
      "execution_count": 193,
      "outputs": [
        {
          "output_type": "execute_result",
          "data": {
            "text/plain": [
              "<matplotlib.image.AxesImage at 0x7f0cba8414a8>"
            ]
          },
          "metadata": {
            "tags": []
          },
          "execution_count": 193
        },
        {
          "output_type": "display_data",
          "data": {
            "image/png": "[encoded data removed]",
            "text/plain": [
              "<Figure size 432x288 with 1 Axes>"
            ]
          },
          "metadata": {
            "tags": []
          }
        }
      ]
    },
    {
      "cell_type": "code",
      "metadata": {
        "id": "HoMNrtF3a-7P",
        "colab_type": "code",
        "colab": {
          "base_uri": "https://localhost:8080/",
          "height": 282
        },
        "outputId": "bfcd3c09-9822-403b-e91a-4ba5ffdc4fae"
      },
      "source": [
        "#convert image as grayscale\n",
        "image = cv2.imread('/content/input_image/digit.jpg',cv2.IMREAD_GRAYSCALE)\n",
        "image_resized = cv2.resize(image,(28,28))\n",
        "plt.imshow(image_resized,cmap=\"gray\")"
      ],
      "execution_count": 187,
      "outputs": [
        {
          "output_type": "execute_result",
          "data": {
            "text/plain": [
              "<matplotlib.image.AxesImage at 0x7f0cba4a3978>"
            ]
          },
          "metadata": {
            "tags": []
          },
          "execution_count": 187
        },
        {
          "output_type": "display_data",
          "data": {
            "image/png": "[encoded data removed]",
            "text/plain": [
              "<Figure size 432x288 with 1 Axes>"
            ]
          },
          "metadata": {
            "tags": []
          }
        }
      ]
    },
    {
      "cell_type": "code",
      "metadata": {
        "id": "dw5Of96RbGWL",
        "colab_type": "code",
        "colab": {
          "base_uri": "https://localhost:8080/",
          "height": 102
        },
        "outputId": "593fcd33-b64c-40b6-dc80-ef768582a9a3"
      },
      "source": [
        "#custom input prediction\n",
        "input_prediction = model.predict(image_resized.reshape(1,784))\n",
        "print(\"prediction score :\\n\",input_prediction[0])\n",
        "threshold = (input_prediction>0.5)*1\n",
        "print(threshold[0])\n",
        "print(np.where(threshold==1)[1][0])"
      ],
      "execution_count": 188,
      "outputs": [
        {
          "output_type": "stream",
          "text": [
            "prediction score :\n",
            " [1.7670862e-05 1.6514390e-03 1.6721882e-03 9.8811650e-01 3.3254887e-06\n",
            " 3.0000901e-03 3.6583551e-06 3.5300684e-05 5.3858436e-03 1.1398460e-04]\n",
            "[0 0 0 1 0 0 0 0 0 0]\n",
            "3\n"
          ],
          "name": "stdout"
        }
      ]
    }
  ]
}