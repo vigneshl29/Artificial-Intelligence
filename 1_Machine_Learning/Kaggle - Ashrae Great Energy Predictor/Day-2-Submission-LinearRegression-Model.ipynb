{
  "nbformat": 4,
  "nbformat_minor": 0,
  "metadata": {
    "colab": {
      "name": "GreatEnergyPredictor_Latest.ipynb",
      "provenance": [],
      "collapsed_sections": [],
      "machine_shape": "hm"
    },
    "kernelspec": {
      "name": "python3",
      "display_name": "Python 3"
    },
    "accelerator": "TPU"
  },
  "cells": [
    {
      "cell_type": "code",
      "metadata": {
        "id": "0-59eOtO8Bne",
        "colab_type": "code",
        "colab": {}
      },
      "source": [
        "#Kaggle link: https://www.kaggle.com/c/ashrae-energy-prediction\n",
        "import zipfile\n",
        "import pandas as pd\n",
        "with zipfile.ZipFile(\"/content/sample_data/ashrae-energy-prediction-final-test.zip\") as z:\n",
        "    with z.open(\"ashrae-energy-prediction/building_metadata.csv\") as f:\n",
        "        building_meta = pd.read_csv(f)\n",
        "    with z.open(\"ashrae-energy-prediction/train.csv\") as f:\n",
        "        train_data = pd.read_csv(f)\n",
        "    with z.open(\"ashrae-energy-prediction/weather_train.csv\") as f:\n",
        "        weather_train = pd.read_csv(f)\n",
        "    with z.open(\"ashrae-energy-prediction/weather_test.csv\") as f:\n",
        "        weather_test = pd.read_csv(f)\n",
        "    with z.open(\"ashrae-energy-prediction/test.csv\") as f:\n",
        "        test_data = pd.read_csv(f)"
      ],
      "execution_count": 0,
      "outputs": []
    },
    {
      "cell_type": "code",
      "metadata": {
        "id": "fWySV91L-JcX",
        "colab_type": "code",
        "outputId": "fab6a02d-a930-45c0-a096-b0a19a312517",
        "colab": {
          "base_uri": "https://localhost:8080/",
          "height": 187
        }
      },
      "source": [
        "weather_train.isnull().sum()"
      ],
      "execution_count": 2,
      "outputs": [
        {
          "output_type": "execute_result",
          "data": {
            "text/plain": [
              "site_id                   0\n",
              "timestamp                 0\n",
              "air_temperature          55\n",
              "cloud_coverage        69173\n",
              "dew_temperature         113\n",
              "precip_depth_1_hr     50289\n",
              "sea_level_pressure    10618\n",
              "wind_direction         6268\n",
              "wind_speed              304\n",
              "dtype: int64"
            ]
          },
          "metadata": {
            "tags": []
          },
          "execution_count": 2
        }
      ]
    },
    {
      "cell_type": "code",
      "metadata": {
        "id": "dYulY8nD_Atu",
        "colab_type": "code",
        "colab": {}
      },
      "source": [
        "weather_train['timestamp'] = pd.to_datetime(weather_train['timestamp'])"
      ],
      "execution_count": 0,
      "outputs": []
    },
    {
      "cell_type": "code",
      "metadata": {
        "id": "hvaLAJOX_T8V",
        "colab_type": "code",
        "colab": {}
      },
      "source": [
        "for site in weather_train['site_id'].unique():\n",
        "  #site_weather = weather_train[weather_train['site_id'] == site]\n",
        "  weather_train[weather_train['site_id'] == site] = weather_train[weather_train['site_id'] == site].interpolate(method=\"linear\")"
      ],
      "execution_count": 0,
      "outputs": []
    },
    {
      "cell_type": "code",
      "metadata": {
        "id": "mpGSQU_V_Y2Y",
        "colab_type": "code",
        "colab": {}
      },
      "source": [
        "weather_train_interpolated = pd.DataFrame([])"
      ],
      "execution_count": 0,
      "outputs": []
    },
    {
      "cell_type": "code",
      "metadata": {
        "id": "gZbegc2Q_eAR",
        "colab_type": "code",
        "colab": {}
      },
      "source": [
        "startDate = pd.to_datetime(\"2016-01-01 00:00:00\")\n",
        "endDate = pd.to_datetime(\"2016-12-31 23:00:00\")"
      ],
      "execution_count": 0,
      "outputs": []
    },
    {
      "cell_type": "code",
      "metadata": {
        "id": "RJceLGuN_efc",
        "colab_type": "code",
        "colab": {}
      },
      "source": [
        "for site in weather_train['site_id'].unique():\n",
        "  site_weather = weather_train[weather_train['site_id'] == site]\n",
        "  site_weather = site_weather.set_index('timestamp')\n",
        "  site_weather_reindexed = site_weather.resample(\"1H\")\n",
        "  #new_index = pd.date_range(startDate,endDate,freq=\"1H\")\n",
        "  #site_weather_reindexed = site_weather.reindex(new_index)\n",
        "  site_weather_reindexed = site_weather_reindexed.interpolate(method=\"linear\")\n",
        "  weather_train_interpolated = weather_train_interpolated.append(site_weather_reindexed)"
      ],
      "execution_count": 0,
      "outputs": []
    },
    {
      "cell_type": "code",
      "metadata": {
        "id": "-ueJ5ihY_fzK",
        "colab_type": "code",
        "colab": {}
      },
      "source": [
        "weather_train_interpolated = weather_train_interpolated.reset_index()"
      ],
      "execution_count": 0,
      "outputs": []
    },
    {
      "cell_type": "code",
      "metadata": {
        "id": "7E24a0RD_inB",
        "colab_type": "code",
        "outputId": "66b1e30a-ff39-428f-9739-f9cb51f6268b",
        "colab": {
          "base_uri": "https://localhost:8080/",
          "height": 187
        }
      },
      "source": [
        "weather_train_interpolated.isnull().sum()"
      ],
      "execution_count": 9,
      "outputs": [
        {
          "output_type": "execute_result",
          "data": {
            "text/plain": [
              "timestamp                 0\n",
              "site_id                   0\n",
              "air_temperature           0\n",
              "cloud_coverage        17606\n",
              "dew_temperature           0\n",
              "precip_depth_1_hr     26568\n",
              "sea_level_pressure     8970\n",
              "wind_direction            0\n",
              "wind_speed                0\n",
              "dtype: int64"
            ]
          },
          "metadata": {
            "tags": []
          },
          "execution_count": 9
        }
      ]
    },
    {
      "cell_type": "code",
      "metadata": {
        "id": "_eqOLQJF_kj2",
        "colab_type": "code",
        "colab": {}
      },
      "source": [
        "#Filling missing values for sea_level_pressure with mean and precip_depth_1_hr, cloud_coverage with mode\n",
        "weather_train_interpolated.loc[(weather_train_interpolated['sea_level_pressure'].isnull()), 'sea_level_pressure'] = weather_train_interpolated['sea_level_pressure'].mean()\n",
        "weather_train_interpolated.loc[(weather_train_interpolated['precip_depth_1_hr'].isnull()), 'precip_depth_1_hr'] = 0.0\n",
        "weather_train_interpolated.loc[(weather_train_interpolated['cloud_coverage'].isnull()), 'cloud_coverage'] = 0.0"
      ],
      "execution_count": 0,
      "outputs": []
    },
    {
      "cell_type": "code",
      "metadata": {
        "id": "tlIr3T6l_mbP",
        "colab_type": "code",
        "outputId": "27f026f9-de2d-48fc-a29a-19b11e634f61",
        "colab": {
          "base_uri": "https://localhost:8080/",
          "height": 187
        }
      },
      "source": [
        "weather_train_interpolated.isnull().sum()"
      ],
      "execution_count": 11,
      "outputs": [
        {
          "output_type": "execute_result",
          "data": {
            "text/plain": [
              "timestamp             0\n",
              "site_id               0\n",
              "air_temperature       0\n",
              "cloud_coverage        0\n",
              "dew_temperature       0\n",
              "precip_depth_1_hr     0\n",
              "sea_level_pressure    0\n",
              "wind_direction        0\n",
              "wind_speed            0\n",
              "dtype: int64"
            ]
          },
          "metadata": {
            "tags": []
          },
          "execution_count": 11
        }
      ]
    },
    {
      "cell_type": "code",
      "metadata": {
        "id": "F-HT-d9W_nqR",
        "colab_type": "code",
        "outputId": "ac6cf550-b2b8-4aec-dd95-19bfa0795d27",
        "colab": {
          "base_uri": "https://localhost:8080/",
          "height": 136
        }
      },
      "source": [
        "building_meta.isnull().sum()"
      ],
      "execution_count": 12,
      "outputs": [
        {
          "output_type": "execute_result",
          "data": {
            "text/plain": [
              "site_id           0\n",
              "building_id       0\n",
              "primary_use       0\n",
              "square_feet       0\n",
              "year_built      774\n",
              "floor_count    1094\n",
              "dtype: int64"
            ]
          },
          "metadata": {
            "tags": []
          },
          "execution_count": 12
        }
      ]
    },
    {
      "cell_type": "code",
      "metadata": {
        "id": "LDRTVJPc_qPE",
        "colab_type": "code",
        "colab": {}
      },
      "source": [
        "building_meta.loc[(building_meta['floor_count'].isnull()), 'floor_count'] = 1\n",
        "building_meta.loc[(building_meta['year_built'].isnull()), 'year_built'] = 1976.0"
      ],
      "execution_count": 0,
      "outputs": []
    },
    {
      "cell_type": "code",
      "metadata": {
        "id": "MuvBrD-t_sF5",
        "colab_type": "code",
        "colab": {}
      },
      "source": [
        "#Creating new feature called total area based on floor count and square feet\n",
        "building_meta['total_area'] = building_meta['floor_count'] * building_meta['square_feet']"
      ],
      "execution_count": 0,
      "outputs": []
    },
    {
      "cell_type": "code",
      "metadata": {
        "id": "zQyu8Stf_u4k",
        "colab_type": "code",
        "colab": {}
      },
      "source": [
        "#Dropping square feet and floor count column\n",
        "building_meta.drop(columns=['square_feet','floor_count'],inplace=True)"
      ],
      "execution_count": 0,
      "outputs": []
    },
    {
      "cell_type": "code",
      "metadata": {
        "id": "xuioiKBp_xLn",
        "colab_type": "code",
        "outputId": "121839f4-25d5-4903-96e9-51a90910c542",
        "colab": {
          "base_uri": "https://localhost:8080/",
          "height": 102
        }
      },
      "source": [
        "train_data.isnull().sum()"
      ],
      "execution_count": 16,
      "outputs": [
        {
          "output_type": "execute_result",
          "data": {
            "text/plain": [
              "building_id      0\n",
              "meter            0\n",
              "timestamp        0\n",
              "meter_reading    0\n",
              "dtype: int64"
            ]
          },
          "metadata": {
            "tags": []
          },
          "execution_count": 16
        }
      ]
    },
    {
      "cell_type": "code",
      "metadata": {
        "id": "IxL6pJo1o8pN",
        "colab_type": "code",
        "colab": {}
      },
      "source": [
        "building_meta = pd.get_dummies(building_meta, columns=['primary_use'])"
      ],
      "execution_count": 0,
      "outputs": []
    },
    {
      "cell_type": "code",
      "metadata": {
        "id": "WHHFV86A_2xt",
        "colab_type": "code",
        "colab": {}
      },
      "source": [
        "merged_train_building = pd.merge(train_data, building_meta, on='building_id')"
      ],
      "execution_count": 0,
      "outputs": []
    },
    {
      "cell_type": "code",
      "metadata": {
        "id": "r_GWDRF5ATQ5",
        "colab_type": "code",
        "outputId": "577332fb-abc2-4ea5-8c20-75b4fde75d9d",
        "colab": {
          "base_uri": "https://localhost:8080/",
          "height": 343
        }
      },
      "source": [
        "merged_train_building.head()"
      ],
      "execution_count": 19,
      "outputs": [
        {
          "output_type": "execute_result",
          "data": {
            "text/html": [
              "<div>\n",
              "<style scoped>\n",
              "    .dataframe tbody tr th:only-of-type {\n",
              "        vertical-align: middle;\n",
              "    }\n",
              "\n",
              "    .dataframe tbody tr th {\n",
              "        vertical-align: top;\n",
              "    }\n",
              "\n",
              "    .dataframe thead th {\n",
              "        text-align: right;\n",
              "    }\n",
              "</style>\n",
              "<table border=\"1\" class=\"dataframe\">\n",
              "  <thead>\n",
              "    <tr style=\"text-align: right;\">\n",
              "      <th></th>\n",
              "      <th>building_id</th>\n",
              "      <th>meter</th>\n",
              "      <th>timestamp</th>\n",
              "      <th>meter_reading</th>\n",
              "      <th>site_id</th>\n",
              "      <th>year_built</th>\n",
              "      <th>total_area</th>\n",
              "      <th>primary_use_Education</th>\n",
              "      <th>primary_use_Entertainment/public assembly</th>\n",
              "      <th>primary_use_Food sales and service</th>\n",
              "      <th>primary_use_Healthcare</th>\n",
              "      <th>primary_use_Lodging/residential</th>\n",
              "      <th>primary_use_Manufacturing/industrial</th>\n",
              "      <th>primary_use_Office</th>\n",
              "      <th>primary_use_Other</th>\n",
              "      <th>primary_use_Parking</th>\n",
              "      <th>primary_use_Public services</th>\n",
              "      <th>primary_use_Religious worship</th>\n",
              "      <th>primary_use_Retail</th>\n",
              "      <th>primary_use_Services</th>\n",
              "      <th>primary_use_Technology/science</th>\n",
              "      <th>primary_use_Utility</th>\n",
              "      <th>primary_use_Warehouse/storage</th>\n",
              "    </tr>\n",
              "  </thead>\n",
              "  <tbody>\n",
              "    <tr>\n",
              "      <th>0</th>\n",
              "      <td>0</td>\n",
              "      <td>0</td>\n",
              "      <td>2016-01-01 00:00:00</td>\n",
              "      <td>0.0</td>\n",
              "      <td>0</td>\n",
              "      <td>2008.0</td>\n",
              "      <td>7432.0</td>\n",
              "      <td>1</td>\n",
              "      <td>0</td>\n",
              "      <td>0</td>\n",
              "      <td>0</td>\n",
              "      <td>0</td>\n",
              "      <td>0</td>\n",
              "      <td>0</td>\n",
              "      <td>0</td>\n",
              "      <td>0</td>\n",
              "      <td>0</td>\n",
              "      <td>0</td>\n",
              "      <td>0</td>\n",
              "      <td>0</td>\n",
              "      <td>0</td>\n",
              "      <td>0</td>\n",
              "      <td>0</td>\n",
              "    </tr>\n",
              "    <tr>\n",
              "      <th>1</th>\n",
              "      <td>0</td>\n",
              "      <td>0</td>\n",
              "      <td>2016-01-01 01:00:00</td>\n",
              "      <td>0.0</td>\n",
              "      <td>0</td>\n",
              "      <td>2008.0</td>\n",
              "      <td>7432.0</td>\n",
              "      <td>1</td>\n",
              "      <td>0</td>\n",
              "      <td>0</td>\n",
              "      <td>0</td>\n",
              "      <td>0</td>\n",
              "      <td>0</td>\n",
              "      <td>0</td>\n",
              "      <td>0</td>\n",
              "      <td>0</td>\n",
              "      <td>0</td>\n",
              "      <td>0</td>\n",
              "      <td>0</td>\n",
              "      <td>0</td>\n",
              "      <td>0</td>\n",
              "      <td>0</td>\n",
              "      <td>0</td>\n",
              "    </tr>\n",
              "    <tr>\n",
              "      <th>2</th>\n",
              "      <td>0</td>\n",
              "      <td>0</td>\n",
              "      <td>2016-01-01 02:00:00</td>\n",
              "      <td>0.0</td>\n",
              "      <td>0</td>\n",
              "      <td>2008.0</td>\n",
              "      <td>7432.0</td>\n",
              "      <td>1</td>\n",
              "      <td>0</td>\n",
              "      <td>0</td>\n",
              "      <td>0</td>\n",
              "      <td>0</td>\n",
              "      <td>0</td>\n",
              "      <td>0</td>\n",
              "      <td>0</td>\n",
              "      <td>0</td>\n",
              "      <td>0</td>\n",
              "      <td>0</td>\n",
              "      <td>0</td>\n",
              "      <td>0</td>\n",
              "      <td>0</td>\n",
              "      <td>0</td>\n",
              "      <td>0</td>\n",
              "    </tr>\n",
              "    <tr>\n",
              "      <th>3</th>\n",
              "      <td>0</td>\n",
              "      <td>0</td>\n",
              "      <td>2016-01-01 03:00:00</td>\n",
              "      <td>0.0</td>\n",
              "      <td>0</td>\n",
              "      <td>2008.0</td>\n",
              "      <td>7432.0</td>\n",
              "      <td>1</td>\n",
              "      <td>0</td>\n",
              "      <td>0</td>\n",
              "      <td>0</td>\n",
              "      <td>0</td>\n",
              "      <td>0</td>\n",
              "      <td>0</td>\n",
              "      <td>0</td>\n",
              "      <td>0</td>\n",
              "      <td>0</td>\n",
              "      <td>0</td>\n",
              "      <td>0</td>\n",
              "      <td>0</td>\n",
              "      <td>0</td>\n",
              "      <td>0</td>\n",
              "      <td>0</td>\n",
              "    </tr>\n",
              "    <tr>\n",
              "      <th>4</th>\n",
              "      <td>0</td>\n",
              "      <td>0</td>\n",
              "      <td>2016-01-01 04:00:00</td>\n",
              "      <td>0.0</td>\n",
              "      <td>0</td>\n",
              "      <td>2008.0</td>\n",
              "      <td>7432.0</td>\n",
              "      <td>1</td>\n",
              "      <td>0</td>\n",
              "      <td>0</td>\n",
              "      <td>0</td>\n",
              "      <td>0</td>\n",
              "      <td>0</td>\n",
              "      <td>0</td>\n",
              "      <td>0</td>\n",
              "      <td>0</td>\n",
              "      <td>0</td>\n",
              "      <td>0</td>\n",
              "      <td>0</td>\n",
              "      <td>0</td>\n",
              "      <td>0</td>\n",
              "      <td>0</td>\n",
              "      <td>0</td>\n",
              "    </tr>\n",
              "  </tbody>\n",
              "</table>\n",
              "</div>"
            ],
            "text/plain": [
              "   building_id  meter  ... primary_use_Utility  primary_use_Warehouse/storage\n",
              "0            0      0  ...                   0                              0\n",
              "1            0      0  ...                   0                              0\n",
              "2            0      0  ...                   0                              0\n",
              "3            0      0  ...                   0                              0\n",
              "4            0      0  ...                   0                              0\n",
              "\n",
              "[5 rows x 23 columns]"
            ]
          },
          "metadata": {
            "tags": []
          },
          "execution_count": 19
        }
      ]
    },
    {
      "cell_type": "code",
      "metadata": {
        "id": "IMt8tShfAVUG",
        "colab_type": "code",
        "colab": {}
      },
      "source": [
        "#merged_train_building.dtypes\n",
        "merged_train_building['timestamp'] = pd.to_datetime(merged_train_building['timestamp'])"
      ],
      "execution_count": 0,
      "outputs": []
    },
    {
      "cell_type": "code",
      "metadata": {
        "id": "lczN-SH7AaNs",
        "colab_type": "code",
        "outputId": "467c039d-b8a5-4131-8c18-1e289785c037",
        "colab": {
          "base_uri": "https://localhost:8080/",
          "height": 343
        }
      },
      "source": [
        "merged_train_building.head()"
      ],
      "execution_count": 21,
      "outputs": [
        {
          "output_type": "execute_result",
          "data": {
            "text/html": [
              "<div>\n",
              "<style scoped>\n",
              "    .dataframe tbody tr th:only-of-type {\n",
              "        vertical-align: middle;\n",
              "    }\n",
              "\n",
              "    .dataframe tbody tr th {\n",
              "        vertical-align: top;\n",
              "    }\n",
              "\n",
              "    .dataframe thead th {\n",
              "        text-align: right;\n",
              "    }\n",
              "</style>\n",
              "<table border=\"1\" class=\"dataframe\">\n",
              "  <thead>\n",
              "    <tr style=\"text-align: right;\">\n",
              "      <th></th>\n",
              "      <th>building_id</th>\n",
              "      <th>meter</th>\n",
              "      <th>timestamp</th>\n",
              "      <th>meter_reading</th>\n",
              "      <th>site_id</th>\n",
              "      <th>year_built</th>\n",
              "      <th>total_area</th>\n",
              "      <th>primary_use_Education</th>\n",
              "      <th>primary_use_Entertainment/public assembly</th>\n",
              "      <th>primary_use_Food sales and service</th>\n",
              "      <th>primary_use_Healthcare</th>\n",
              "      <th>primary_use_Lodging/residential</th>\n",
              "      <th>primary_use_Manufacturing/industrial</th>\n",
              "      <th>primary_use_Office</th>\n",
              "      <th>primary_use_Other</th>\n",
              "      <th>primary_use_Parking</th>\n",
              "      <th>primary_use_Public services</th>\n",
              "      <th>primary_use_Religious worship</th>\n",
              "      <th>primary_use_Retail</th>\n",
              "      <th>primary_use_Services</th>\n",
              "      <th>primary_use_Technology/science</th>\n",
              "      <th>primary_use_Utility</th>\n",
              "      <th>primary_use_Warehouse/storage</th>\n",
              "    </tr>\n",
              "  </thead>\n",
              "  <tbody>\n",
              "    <tr>\n",
              "      <th>0</th>\n",
              "      <td>0</td>\n",
              "      <td>0</td>\n",
              "      <td>2016-01-01 00:00:00</td>\n",
              "      <td>0.0</td>\n",
              "      <td>0</td>\n",
              "      <td>2008.0</td>\n",
              "      <td>7432.0</td>\n",
              "      <td>1</td>\n",
              "      <td>0</td>\n",
              "      <td>0</td>\n",
              "      <td>0</td>\n",
              "      <td>0</td>\n",
              "      <td>0</td>\n",
              "      <td>0</td>\n",
              "      <td>0</td>\n",
              "      <td>0</td>\n",
              "      <td>0</td>\n",
              "      <td>0</td>\n",
              "      <td>0</td>\n",
              "      <td>0</td>\n",
              "      <td>0</td>\n",
              "      <td>0</td>\n",
              "      <td>0</td>\n",
              "    </tr>\n",
              "    <tr>\n",
              "      <th>1</th>\n",
              "      <td>0</td>\n",
              "      <td>0</td>\n",
              "      <td>2016-01-01 01:00:00</td>\n",
              "      <td>0.0</td>\n",
              "      <td>0</td>\n",
              "      <td>2008.0</td>\n",
              "      <td>7432.0</td>\n",
              "      <td>1</td>\n",
              "      <td>0</td>\n",
              "      <td>0</td>\n",
              "      <td>0</td>\n",
              "      <td>0</td>\n",
              "      <td>0</td>\n",
              "      <td>0</td>\n",
              "      <td>0</td>\n",
              "      <td>0</td>\n",
              "      <td>0</td>\n",
              "      <td>0</td>\n",
              "      <td>0</td>\n",
              "      <td>0</td>\n",
              "      <td>0</td>\n",
              "      <td>0</td>\n",
              "      <td>0</td>\n",
              "    </tr>\n",
              "    <tr>\n",
              "      <th>2</th>\n",
              "      <td>0</td>\n",
              "      <td>0</td>\n",
              "      <td>2016-01-01 02:00:00</td>\n",
              "      <td>0.0</td>\n",
              "      <td>0</td>\n",
              "      <td>2008.0</td>\n",
              "      <td>7432.0</td>\n",
              "      <td>1</td>\n",
              "      <td>0</td>\n",
              "      <td>0</td>\n",
              "      <td>0</td>\n",
              "      <td>0</td>\n",
              "      <td>0</td>\n",
              "      <td>0</td>\n",
              "      <td>0</td>\n",
              "      <td>0</td>\n",
              "      <td>0</td>\n",
              "      <td>0</td>\n",
              "      <td>0</td>\n",
              "      <td>0</td>\n",
              "      <td>0</td>\n",
              "      <td>0</td>\n",
              "      <td>0</td>\n",
              "    </tr>\n",
              "    <tr>\n",
              "      <th>3</th>\n",
              "      <td>0</td>\n",
              "      <td>0</td>\n",
              "      <td>2016-01-01 03:00:00</td>\n",
              "      <td>0.0</td>\n",
              "      <td>0</td>\n",
              "      <td>2008.0</td>\n",
              "      <td>7432.0</td>\n",
              "      <td>1</td>\n",
              "      <td>0</td>\n",
              "      <td>0</td>\n",
              "      <td>0</td>\n",
              "      <td>0</td>\n",
              "      <td>0</td>\n",
              "      <td>0</td>\n",
              "      <td>0</td>\n",
              "      <td>0</td>\n",
              "      <td>0</td>\n",
              "      <td>0</td>\n",
              "      <td>0</td>\n",
              "      <td>0</td>\n",
              "      <td>0</td>\n",
              "      <td>0</td>\n",
              "      <td>0</td>\n",
              "    </tr>\n",
              "    <tr>\n",
              "      <th>4</th>\n",
              "      <td>0</td>\n",
              "      <td>0</td>\n",
              "      <td>2016-01-01 04:00:00</td>\n",
              "      <td>0.0</td>\n",
              "      <td>0</td>\n",
              "      <td>2008.0</td>\n",
              "      <td>7432.0</td>\n",
              "      <td>1</td>\n",
              "      <td>0</td>\n",
              "      <td>0</td>\n",
              "      <td>0</td>\n",
              "      <td>0</td>\n",
              "      <td>0</td>\n",
              "      <td>0</td>\n",
              "      <td>0</td>\n",
              "      <td>0</td>\n",
              "      <td>0</td>\n",
              "      <td>0</td>\n",
              "      <td>0</td>\n",
              "      <td>0</td>\n",
              "      <td>0</td>\n",
              "      <td>0</td>\n",
              "      <td>0</td>\n",
              "    </tr>\n",
              "  </tbody>\n",
              "</table>\n",
              "</div>"
            ],
            "text/plain": [
              "   building_id  meter  ... primary_use_Utility  primary_use_Warehouse/storage\n",
              "0            0      0  ...                   0                              0\n",
              "1            0      0  ...                   0                              0\n",
              "2            0      0  ...                   0                              0\n",
              "3            0      0  ...                   0                              0\n",
              "4            0      0  ...                   0                              0\n",
              "\n",
              "[5 rows x 23 columns]"
            ]
          },
          "metadata": {
            "tags": []
          },
          "execution_count": 21
        }
      ]
    },
    {
      "cell_type": "code",
      "metadata": {
        "id": "cT0o4LBuApOx",
        "colab_type": "code",
        "outputId": "7aeaf910-6d47-4886-979c-a571f58955d2",
        "colab": {
          "base_uri": "https://localhost:8080/",
          "height": 309
        }
      },
      "source": [
        "weather_train_interpolated.head()"
      ],
      "execution_count": 22,
      "outputs": [
        {
          "output_type": "execute_result",
          "data": {
            "text/html": [
              "<div>\n",
              "<style scoped>\n",
              "    .dataframe tbody tr th:only-of-type {\n",
              "        vertical-align: middle;\n",
              "    }\n",
              "\n",
              "    .dataframe tbody tr th {\n",
              "        vertical-align: top;\n",
              "    }\n",
              "\n",
              "    .dataframe thead th {\n",
              "        text-align: right;\n",
              "    }\n",
              "</style>\n",
              "<table border=\"1\" class=\"dataframe\">\n",
              "  <thead>\n",
              "    <tr style=\"text-align: right;\">\n",
              "      <th></th>\n",
              "      <th>timestamp</th>\n",
              "      <th>site_id</th>\n",
              "      <th>air_temperature</th>\n",
              "      <th>cloud_coverage</th>\n",
              "      <th>dew_temperature</th>\n",
              "      <th>precip_depth_1_hr</th>\n",
              "      <th>sea_level_pressure</th>\n",
              "      <th>wind_direction</th>\n",
              "      <th>wind_speed</th>\n",
              "    </tr>\n",
              "  </thead>\n",
              "  <tbody>\n",
              "    <tr>\n",
              "      <th>0</th>\n",
              "      <td>2016-01-01 00:00:00</td>\n",
              "      <td>0.0</td>\n",
              "      <td>25.0</td>\n",
              "      <td>6.0</td>\n",
              "      <td>20.0</td>\n",
              "      <td>0.0</td>\n",
              "      <td>1019.7</td>\n",
              "      <td>0.0</td>\n",
              "      <td>0.0</td>\n",
              "    </tr>\n",
              "    <tr>\n",
              "      <th>1</th>\n",
              "      <td>2016-01-01 01:00:00</td>\n",
              "      <td>0.0</td>\n",
              "      <td>24.4</td>\n",
              "      <td>4.0</td>\n",
              "      <td>21.1</td>\n",
              "      <td>-1.0</td>\n",
              "      <td>1020.2</td>\n",
              "      <td>70.0</td>\n",
              "      <td>1.5</td>\n",
              "    </tr>\n",
              "    <tr>\n",
              "      <th>2</th>\n",
              "      <td>2016-01-01 02:00:00</td>\n",
              "      <td>0.0</td>\n",
              "      <td>22.8</td>\n",
              "      <td>2.0</td>\n",
              "      <td>21.1</td>\n",
              "      <td>0.0</td>\n",
              "      <td>1020.2</td>\n",
              "      <td>0.0</td>\n",
              "      <td>0.0</td>\n",
              "    </tr>\n",
              "    <tr>\n",
              "      <th>3</th>\n",
              "      <td>2016-01-01 03:00:00</td>\n",
              "      <td>0.0</td>\n",
              "      <td>21.1</td>\n",
              "      <td>2.0</td>\n",
              "      <td>20.6</td>\n",
              "      <td>0.0</td>\n",
              "      <td>1020.1</td>\n",
              "      <td>0.0</td>\n",
              "      <td>0.0</td>\n",
              "    </tr>\n",
              "    <tr>\n",
              "      <th>4</th>\n",
              "      <td>2016-01-01 04:00:00</td>\n",
              "      <td>0.0</td>\n",
              "      <td>20.0</td>\n",
              "      <td>2.0</td>\n",
              "      <td>20.0</td>\n",
              "      <td>-1.0</td>\n",
              "      <td>1020.0</td>\n",
              "      <td>250.0</td>\n",
              "      <td>2.6</td>\n",
              "    </tr>\n",
              "  </tbody>\n",
              "</table>\n",
              "</div>"
            ],
            "text/plain": [
              "            timestamp  site_id  ...  wind_direction  wind_speed\n",
              "0 2016-01-01 00:00:00      0.0  ...             0.0         0.0\n",
              "1 2016-01-01 01:00:00      0.0  ...            70.0         1.5\n",
              "2 2016-01-01 02:00:00      0.0  ...             0.0         0.0\n",
              "3 2016-01-01 03:00:00      0.0  ...             0.0         0.0\n",
              "4 2016-01-01 04:00:00      0.0  ...           250.0         2.6\n",
              "\n",
              "[5 rows x 9 columns]"
            ]
          },
          "metadata": {
            "tags": []
          },
          "execution_count": 22
        }
      ]
    },
    {
      "cell_type": "code",
      "metadata": {
        "id": "CHGiy2GfAzXZ",
        "colab_type": "code",
        "outputId": "f4159967-3c9f-4568-fea6-bd6e62701775",
        "colab": {
          "base_uri": "https://localhost:8080/",
          "height": 34
        }
      },
      "source": [
        "merged_train_building.shape"
      ],
      "execution_count": 23,
      "outputs": [
        {
          "output_type": "execute_result",
          "data": {
            "text/plain": [
              "(20216100, 23)"
            ]
          },
          "metadata": {
            "tags": []
          },
          "execution_count": 23
        }
      ]
    },
    {
      "cell_type": "code",
      "metadata": {
        "id": "brSFocGOA9Gh",
        "colab_type": "code",
        "outputId": "018df4f8-0f3e-4228-bdbd-1340ec11e0bb",
        "colab": {
          "base_uri": "https://localhost:8080/",
          "height": 34
        }
      },
      "source": [
        "weather_train_interpolated.shape"
      ],
      "execution_count": 24,
      "outputs": [
        {
          "output_type": "execute_result",
          "data": {
            "text/plain": [
              "(140537, 9)"
            ]
          },
          "metadata": {
            "tags": []
          },
          "execution_count": 24
        }
      ]
    },
    {
      "cell_type": "code",
      "metadata": {
        "id": "8A8JZI5ZA-5Q",
        "colab_type": "code",
        "colab": {}
      },
      "source": [
        "train = pd.merge(merged_train_building, weather_train_interpolated, on=['site_id','timestamp'])"
      ],
      "execution_count": 0,
      "outputs": []
    },
    {
      "cell_type": "code",
      "metadata": {
        "id": "molWNrlFCXQM",
        "colab_type": "code",
        "colab": {}
      },
      "source": [
        "site_zero_buildings = train[train['site_id'] == 0]['building_id'].values.flatten().tolist()"
      ],
      "execution_count": 0,
      "outputs": []
    },
    {
      "cell_type": "code",
      "metadata": {
        "id": "RhlOtZTXDXdL",
        "colab_type": "code",
        "colab": {}
      },
      "source": [
        "kbtu_conversion_factor = 0.293071\n",
        "train.loc[(train['building_id'].isin(site_zero_buildings)) & (train['meter'] == 0),'meter_reading'] = train.loc[(train['building_id'].isin(site_zero_buildings)) & (train['meter'] == 0),'meter_reading']*kbtu_conversion_factor"
      ],
      "execution_count": 0,
      "outputs": []
    },
    {
      "cell_type": "code",
      "metadata": {
        "id": "d-JN7igIDnDC",
        "colab_type": "code",
        "colab": {}
      },
      "source": [
        "train['weekday'] = train['timestamp'].dt.weekday"
      ],
      "execution_count": 0,
      "outputs": []
    },
    {
      "cell_type": "code",
      "metadata": {
        "id": "dDvRCMt_DsiC",
        "colab_type": "code",
        "colab": {}
      },
      "source": [
        "train['weekday'] = train['weekday'].isin([0,1,2,3,4])"
      ],
      "execution_count": 0,
      "outputs": []
    },
    {
      "cell_type": "code",
      "metadata": {
        "id": "UGlDVPmdDuAM",
        "colab_type": "code",
        "colab": {}
      },
      "source": [
        "#Extracting hour from timestamp\n",
        "train['hour'] = train['timestamp'].dt.hour"
      ],
      "execution_count": 0,
      "outputs": []
    },
    {
      "cell_type": "code",
      "metadata": {
        "id": "iQFkRCrjDxgn",
        "colab_type": "code",
        "colab": {}
      },
      "source": [
        "#Extracting month from timestamp\n",
        "train['month'] = train['timestamp'].dt.month"
      ],
      "execution_count": 0,
      "outputs": []
    },
    {
      "cell_type": "code",
      "metadata": {
        "id": "vZEXI8XGDynZ",
        "colab_type": "code",
        "colab": {}
      },
      "source": [
        "#Extracting year from timestamp\n",
        "train['year'] = train['timestamp'].dt.year"
      ],
      "execution_count": 0,
      "outputs": []
    },
    {
      "cell_type": "code",
      "metadata": {
        "id": "GWSedfAKD0w_",
        "colab_type": "code",
        "colab": {}
      },
      "source": [
        "#Creating new feature called building age based on this previous year and the year which building was build\n",
        "train['building_age'] = train['year'] - train['year_built']"
      ],
      "execution_count": 0,
      "outputs": []
    },
    {
      "cell_type": "code",
      "metadata": {
        "id": "wsN5aeQfD2RO",
        "colab_type": "code",
        "colab": {}
      },
      "source": [
        "#Drop unwanted columns related to year\n",
        "#train = train.drop(columns=['year_built', 'year'])\n",
        "del train['year_built']\n",
        "del train['year']"
      ],
      "execution_count": 0,
      "outputs": []
    },
    {
      "cell_type": "markdown",
      "metadata": {
        "id": "C9YG4x_3D9SZ",
        "colab_type": "text"
      },
      "source": [
        "**Data Normalization**"
      ]
    },
    {
      "cell_type": "code",
      "metadata": {
        "id": "mcz6v4zTD_LF",
        "colab_type": "code",
        "outputId": "486071a9-3dd6-459f-a115-1bc74dfeea69",
        "colab": {
          "base_uri": "https://localhost:8080/",
          "height": 34
        }
      },
      "source": [
        "from sklearn.preprocessing import PowerTransformer\n",
        "at_pt = PowerTransformer(method='yeo-johnson')\n",
        "train['air_temperature'] = at_pt.fit_transform(train[['air_temperature']])\n",
        "train['air_temperature'].skew()"
      ],
      "execution_count": 35,
      "outputs": [
        {
          "output_type": "execute_result",
          "data": {
            "text/plain": [
              "-0.15778677535064728"
            ]
          },
          "metadata": {
            "tags": []
          },
          "execution_count": 35
        }
      ]
    },
    {
      "cell_type": "code",
      "metadata": {
        "id": "LaTutGtDEJg2",
        "colab_type": "code",
        "outputId": "8d990044-ca72-4083-f827-24c9879d2119",
        "colab": {
          "base_uri": "https://localhost:8080/",
          "height": 34
        }
      },
      "source": [
        "cc_pt = PowerTransformer(method='yeo-johnson')\n",
        "train['cloud_coverage'] = cc_pt.fit_transform(train[['cloud_coverage']])\n",
        "train['cloud_coverage'].skew()"
      ],
      "execution_count": 36,
      "outputs": [
        {
          "output_type": "execute_result",
          "data": {
            "text/plain": [
              "-0.003063201517380995"
            ]
          },
          "metadata": {
            "tags": []
          },
          "execution_count": 36
        }
      ]
    },
    {
      "cell_type": "code",
      "metadata": {
        "id": "jR4pVcSuEPXN",
        "colab_type": "code",
        "outputId": "2152256c-83d2-4aab-8a39-e6fdb031b467",
        "colab": {
          "base_uri": "https://localhost:8080/",
          "height": 34
        }
      },
      "source": [
        "dew_pt = PowerTransformer(method='yeo-johnson')\n",
        "train['dew_temperature'] = dew_pt.fit_transform(train[['dew_temperature']])\n",
        "print(train['dew_temperature'].skew())"
      ],
      "execution_count": 37,
      "outputs": [
        {
          "output_type": "stream",
          "text": [
            "-0.22318298822822247\n"
          ],
          "name": "stdout"
        }
      ]
    },
    {
      "cell_type": "code",
      "metadata": {
        "id": "e3TWjXzcEYmG",
        "colab_type": "code",
        "outputId": "4af0d735-28c5-4bcf-8f61-562383b7ab53",
        "colab": {
          "base_uri": "https://localhost:8080/",
          "height": 34
        }
      },
      "source": [
        "pre_pt = PowerTransformer(method='yeo-johnson')\n",
        "train['precip_depth_1_hr'] = pre_pt.fit_transform(train[['precip_depth_1_hr']])\n",
        "print(train['precip_depth_1_hr'].skew())"
      ],
      "execution_count": 38,
      "outputs": [
        {
          "output_type": "stream",
          "text": [
            "-0.6175721293720853\n"
          ],
          "name": "stdout"
        }
      ]
    },
    {
      "cell_type": "code",
      "metadata": {
        "id": "OLSXBsPTEeCN",
        "colab_type": "code",
        "outputId": "fe83a075-e6eb-4ae6-cf47-9c46a3a3f399",
        "colab": {
          "base_uri": "https://localhost:8080/",
          "height": 34
        }
      },
      "source": [
        "ws_pt = PowerTransformer(method='yeo-johnson')\n",
        "train['wind_speed'] = ws_pt.fit_transform(train[['wind_speed']])\n",
        "print(train['wind_speed'].skew())"
      ],
      "execution_count": 39,
      "outputs": [
        {
          "output_type": "stream",
          "text": [
            "-0.021589399707228635\n"
          ],
          "name": "stdout"
        }
      ]
    },
    {
      "cell_type": "code",
      "metadata": {
        "id": "U3rR6GehEk5U",
        "colab_type": "code",
        "outputId": "ac75e805-28c2-4abd-ca99-f58f99be5a5a",
        "colab": {
          "base_uri": "https://localhost:8080/",
          "height": 34
        }
      },
      "source": [
        "ta_pt = PowerTransformer(method='yeo-johnson')\n",
        "train['total_area'] = ta_pt.fit_transform(train[['total_area']])\n",
        "print(train['total_area'].skew())"
      ],
      "execution_count": 40,
      "outputs": [
        {
          "output_type": "stream",
          "text": [
            "0.01976005042213119\n"
          ],
          "name": "stdout"
        }
      ]
    },
    {
      "cell_type": "code",
      "metadata": {
        "id": "fzzW9rrAEpZe",
        "colab_type": "code",
        "outputId": "7faae952-6433-41ef-fed9-26a25d386682",
        "colab": {
          "base_uri": "https://localhost:8080/",
          "height": 34
        }
      },
      "source": [
        "ba_pt = PowerTransformer(method='yeo-johnson')\n",
        "train['building_age'] = ba_pt.fit_transform(train[['building_age']])\n",
        "print(train['building_age'].skew())"
      ],
      "execution_count": 41,
      "outputs": [
        {
          "output_type": "stream",
          "text": [
            "0.24334356637168034\n"
          ],
          "name": "stdout"
        }
      ]
    },
    {
      "cell_type": "code",
      "metadata": {
        "id": "dnbn3ZYGE1Zk",
        "colab_type": "code",
        "outputId": "674ca654-0b4c-4f59-fc33-7afef781814e",
        "colab": {
          "base_uri": "https://localhost:8080/",
          "height": 34
        }
      },
      "source": [
        "mr_pt = PowerTransformer(method='yeo-johnson')\n",
        "train['meter_reading'] = mr_pt.fit_transform(train[['meter_reading']])\n",
        "print(train['meter_reading'].skew())"
      ],
      "execution_count": 42,
      "outputs": [
        {
          "output_type": "stream",
          "text": [
            "0.0025713174838154786\n"
          ],
          "name": "stdout"
        }
      ]
    },
    {
      "cell_type": "code",
      "metadata": {
        "id": "UmfRWdITE5mP",
        "colab_type": "code",
        "outputId": "464ad3ff-d590-460b-bb7d-57bf98ce42f5",
        "colab": {
          "base_uri": "https://localhost:8080/",
          "height": 258
        }
      },
      "source": [
        "train.head()"
      ],
      "execution_count": 43,
      "outputs": [
        {
          "output_type": "execute_result",
          "data": {
            "text/html": [
              "<div>\n",
              "<style scoped>\n",
              "    .dataframe tbody tr th:only-of-type {\n",
              "        vertical-align: middle;\n",
              "    }\n",
              "\n",
              "    .dataframe tbody tr th {\n",
              "        vertical-align: top;\n",
              "    }\n",
              "\n",
              "    .dataframe thead th {\n",
              "        text-align: right;\n",
              "    }\n",
              "</style>\n",
              "<table border=\"1\" class=\"dataframe\">\n",
              "  <thead>\n",
              "    <tr style=\"text-align: right;\">\n",
              "      <th></th>\n",
              "      <th>building_id</th>\n",
              "      <th>meter</th>\n",
              "      <th>timestamp</th>\n",
              "      <th>meter_reading</th>\n",
              "      <th>site_id</th>\n",
              "      <th>total_area</th>\n",
              "      <th>primary_use_Education</th>\n",
              "      <th>primary_use_Entertainment/public assembly</th>\n",
              "      <th>primary_use_Food sales and service</th>\n",
              "      <th>primary_use_Healthcare</th>\n",
              "      <th>primary_use_Lodging/residential</th>\n",
              "      <th>primary_use_Manufacturing/industrial</th>\n",
              "      <th>primary_use_Office</th>\n",
              "      <th>primary_use_Other</th>\n",
              "      <th>primary_use_Parking</th>\n",
              "      <th>primary_use_Public services</th>\n",
              "      <th>primary_use_Religious worship</th>\n",
              "      <th>primary_use_Retail</th>\n",
              "      <th>primary_use_Services</th>\n",
              "      <th>primary_use_Technology/science</th>\n",
              "      <th>primary_use_Utility</th>\n",
              "      <th>primary_use_Warehouse/storage</th>\n",
              "      <th>air_temperature</th>\n",
              "      <th>cloud_coverage</th>\n",
              "      <th>dew_temperature</th>\n",
              "      <th>precip_depth_1_hr</th>\n",
              "      <th>sea_level_pressure</th>\n",
              "      <th>wind_direction</th>\n",
              "      <th>wind_speed</th>\n",
              "      <th>weekday</th>\n",
              "      <th>hour</th>\n",
              "      <th>month</th>\n",
              "      <th>building_age</th>\n",
              "    </tr>\n",
              "  </thead>\n",
              "  <tbody>\n",
              "    <tr>\n",
              "      <th>0</th>\n",
              "      <td>0</td>\n",
              "      <td>0</td>\n",
              "      <td>2016-01-01</td>\n",
              "      <td>-1.825863</td>\n",
              "      <td>0</td>\n",
              "      <td>-1.691510</td>\n",
              "      <td>1</td>\n",
              "      <td>0</td>\n",
              "      <td>0</td>\n",
              "      <td>0</td>\n",
              "      <td>0</td>\n",
              "      <td>0</td>\n",
              "      <td>0</td>\n",
              "      <td>0</td>\n",
              "      <td>0</td>\n",
              "      <td>0</td>\n",
              "      <td>0</td>\n",
              "      <td>0</td>\n",
              "      <td>0</td>\n",
              "      <td>0</td>\n",
              "      <td>0</td>\n",
              "      <td>0</td>\n",
              "      <td>0.834089</td>\n",
              "      <td>1.151061</td>\n",
              "      <td>1.249691</td>\n",
              "      <td>0.067746</td>\n",
              "      <td>1019.7</td>\n",
              "      <td>0.0</td>\n",
              "      <td>-1.847361</td>\n",
              "      <td>True</td>\n",
              "      <td>0</td>\n",
              "      <td>1</td>\n",
              "      <td>-2.177341</td>\n",
              "    </tr>\n",
              "    <tr>\n",
              "      <th>1</th>\n",
              "      <td>1</td>\n",
              "      <td>0</td>\n",
              "      <td>2016-01-01</td>\n",
              "      <td>-1.825863</td>\n",
              "      <td>0</td>\n",
              "      <td>-2.384460</td>\n",
              "      <td>1</td>\n",
              "      <td>0</td>\n",
              "      <td>0</td>\n",
              "      <td>0</td>\n",
              "      <td>0</td>\n",
              "      <td>0</td>\n",
              "      <td>0</td>\n",
              "      <td>0</td>\n",
              "      <td>0</td>\n",
              "      <td>0</td>\n",
              "      <td>0</td>\n",
              "      <td>0</td>\n",
              "      <td>0</td>\n",
              "      <td>0</td>\n",
              "      <td>0</td>\n",
              "      <td>0</td>\n",
              "      <td>0.834089</td>\n",
              "      <td>1.151061</td>\n",
              "      <td>1.249691</td>\n",
              "      <td>0.067746</td>\n",
              "      <td>1019.7</td>\n",
              "      <td>0.0</td>\n",
              "      <td>-1.847361</td>\n",
              "      <td>True</td>\n",
              "      <td>0</td>\n",
              "      <td>1</td>\n",
              "      <td>-1.837914</td>\n",
              "    </tr>\n",
              "    <tr>\n",
              "      <th>2</th>\n",
              "      <td>2</td>\n",
              "      <td>0</td>\n",
              "      <td>2016-01-01</td>\n",
              "      <td>-1.825863</td>\n",
              "      <td>0</td>\n",
              "      <td>-1.916981</td>\n",
              "      <td>1</td>\n",
              "      <td>0</td>\n",
              "      <td>0</td>\n",
              "      <td>0</td>\n",
              "      <td>0</td>\n",
              "      <td>0</td>\n",
              "      <td>0</td>\n",
              "      <td>0</td>\n",
              "      <td>0</td>\n",
              "      <td>0</td>\n",
              "      <td>0</td>\n",
              "      <td>0</td>\n",
              "      <td>0</td>\n",
              "      <td>0</td>\n",
              "      <td>0</td>\n",
              "      <td>0</td>\n",
              "      <td>0.834089</td>\n",
              "      <td>1.151061</td>\n",
              "      <td>1.249691</td>\n",
              "      <td>0.067746</td>\n",
              "      <td>1019.7</td>\n",
              "      <td>0.0</td>\n",
              "      <td>-1.847361</td>\n",
              "      <td>True</td>\n",
              "      <td>0</td>\n",
              "      <td>1</td>\n",
              "      <td>-0.933660</td>\n",
              "    </tr>\n",
              "    <tr>\n",
              "      <th>3</th>\n",
              "      <td>3</td>\n",
              "      <td>0</td>\n",
              "      <td>2016-01-01</td>\n",
              "      <td>-1.825863</td>\n",
              "      <td>0</td>\n",
              "      <td>-0.867037</td>\n",
              "      <td>1</td>\n",
              "      <td>0</td>\n",
              "      <td>0</td>\n",
              "      <td>0</td>\n",
              "      <td>0</td>\n",
              "      <td>0</td>\n",
              "      <td>0</td>\n",
              "      <td>0</td>\n",
              "      <td>0</td>\n",
              "      <td>0</td>\n",
              "      <td>0</td>\n",
              "      <td>0</td>\n",
              "      <td>0</td>\n",
              "      <td>0</td>\n",
              "      <td>0</td>\n",
              "      <td>0</td>\n",
              "      <td>0.834089</td>\n",
              "      <td>1.151061</td>\n",
              "      <td>1.249691</td>\n",
              "      <td>0.067746</td>\n",
              "      <td>1019.7</td>\n",
              "      <td>0.0</td>\n",
              "      <td>-1.847361</td>\n",
              "      <td>True</td>\n",
              "      <td>0</td>\n",
              "      <td>1</td>\n",
              "      <td>-1.682631</td>\n",
              "    </tr>\n",
              "    <tr>\n",
              "      <th>4</th>\n",
              "      <td>4</td>\n",
              "      <td>0</td>\n",
              "      <td>2016-01-01</td>\n",
              "      <td>-1.825863</td>\n",
              "      <td>0</td>\n",
              "      <td>0.312806</td>\n",
              "      <td>1</td>\n",
              "      <td>0</td>\n",
              "      <td>0</td>\n",
              "      <td>0</td>\n",
              "      <td>0</td>\n",
              "      <td>0</td>\n",
              "      <td>0</td>\n",
              "      <td>0</td>\n",
              "      <td>0</td>\n",
              "      <td>0</td>\n",
              "      <td>0</td>\n",
              "      <td>0</td>\n",
              "      <td>0</td>\n",
              "      <td>0</td>\n",
              "      <td>0</td>\n",
              "      <td>0</td>\n",
              "      <td>0.834089</td>\n",
              "      <td>1.151061</td>\n",
              "      <td>1.249691</td>\n",
              "      <td>0.067746</td>\n",
              "      <td>1019.7</td>\n",
              "      <td>0.0</td>\n",
              "      <td>-1.847361</td>\n",
              "      <td>True</td>\n",
              "      <td>0</td>\n",
              "      <td>1</td>\n",
              "      <td>-0.026442</td>\n",
              "    </tr>\n",
              "  </tbody>\n",
              "</table>\n",
              "</div>"
            ],
            "text/plain": [
              "   building_id  meter  timestamp  ...  hour  month  building_age\n",
              "0            0      0 2016-01-01  ...     0      1     -2.177341\n",
              "1            1      0 2016-01-01  ...     0      1     -1.837914\n",
              "2            2      0 2016-01-01  ...     0      1     -0.933660\n",
              "3            3      0 2016-01-01  ...     0      1     -1.682631\n",
              "4            4      0 2016-01-01  ...     0      1     -0.026442\n",
              "\n",
              "[5 rows x 33 columns]"
            ]
          },
          "metadata": {
            "tags": []
          },
          "execution_count": 43
        }
      ]
    },
    {
      "cell_type": "code",
      "metadata": {
        "id": "ROPprDyRFqda",
        "colab_type": "code",
        "colab": {}
      },
      "source": [
        "#One hot encoding\n",
        "#train = pd.get_dummies(train, columns=['primary_use'])"
      ],
      "execution_count": 0,
      "outputs": []
    },
    {
      "cell_type": "code",
      "metadata": {
        "id": "OTAoj2gEFs0W",
        "colab_type": "code",
        "outputId": "1028a756-8191-4e44-bab5-962cb69f5bfd",
        "colab": {
          "base_uri": "https://localhost:8080/",
          "height": 258
        }
      },
      "source": [
        "train.head()"
      ],
      "execution_count": 45,
      "outputs": [
        {
          "output_type": "execute_result",
          "data": {
            "text/html": [
              "<div>\n",
              "<style scoped>\n",
              "    .dataframe tbody tr th:only-of-type {\n",
              "        vertical-align: middle;\n",
              "    }\n",
              "\n",
              "    .dataframe tbody tr th {\n",
              "        vertical-align: top;\n",
              "    }\n",
              "\n",
              "    .dataframe thead th {\n",
              "        text-align: right;\n",
              "    }\n",
              "</style>\n",
              "<table border=\"1\" class=\"dataframe\">\n",
              "  <thead>\n",
              "    <tr style=\"text-align: right;\">\n",
              "      <th></th>\n",
              "      <th>building_id</th>\n",
              "      <th>meter</th>\n",
              "      <th>timestamp</th>\n",
              "      <th>meter_reading</th>\n",
              "      <th>site_id</th>\n",
              "      <th>total_area</th>\n",
              "      <th>primary_use_Education</th>\n",
              "      <th>primary_use_Entertainment/public assembly</th>\n",
              "      <th>primary_use_Food sales and service</th>\n",
              "      <th>primary_use_Healthcare</th>\n",
              "      <th>primary_use_Lodging/residential</th>\n",
              "      <th>primary_use_Manufacturing/industrial</th>\n",
              "      <th>primary_use_Office</th>\n",
              "      <th>primary_use_Other</th>\n",
              "      <th>primary_use_Parking</th>\n",
              "      <th>primary_use_Public services</th>\n",
              "      <th>primary_use_Religious worship</th>\n",
              "      <th>primary_use_Retail</th>\n",
              "      <th>primary_use_Services</th>\n",
              "      <th>primary_use_Technology/science</th>\n",
              "      <th>primary_use_Utility</th>\n",
              "      <th>primary_use_Warehouse/storage</th>\n",
              "      <th>air_temperature</th>\n",
              "      <th>cloud_coverage</th>\n",
              "      <th>dew_temperature</th>\n",
              "      <th>precip_depth_1_hr</th>\n",
              "      <th>sea_level_pressure</th>\n",
              "      <th>wind_direction</th>\n",
              "      <th>wind_speed</th>\n",
              "      <th>weekday</th>\n",
              "      <th>hour</th>\n",
              "      <th>month</th>\n",
              "      <th>building_age</th>\n",
              "    </tr>\n",
              "  </thead>\n",
              "  <tbody>\n",
              "    <tr>\n",
              "      <th>0</th>\n",
              "      <td>0</td>\n",
              "      <td>0</td>\n",
              "      <td>2016-01-01</td>\n",
              "      <td>-1.825863</td>\n",
              "      <td>0</td>\n",
              "      <td>-1.691510</td>\n",
              "      <td>1</td>\n",
              "      <td>0</td>\n",
              "      <td>0</td>\n",
              "      <td>0</td>\n",
              "      <td>0</td>\n",
              "      <td>0</td>\n",
              "      <td>0</td>\n",
              "      <td>0</td>\n",
              "      <td>0</td>\n",
              "      <td>0</td>\n",
              "      <td>0</td>\n",
              "      <td>0</td>\n",
              "      <td>0</td>\n",
              "      <td>0</td>\n",
              "      <td>0</td>\n",
              "      <td>0</td>\n",
              "      <td>0.834089</td>\n",
              "      <td>1.151061</td>\n",
              "      <td>1.249691</td>\n",
              "      <td>0.067746</td>\n",
              "      <td>1019.7</td>\n",
              "      <td>0.0</td>\n",
              "      <td>-1.847361</td>\n",
              "      <td>True</td>\n",
              "      <td>0</td>\n",
              "      <td>1</td>\n",
              "      <td>-2.177341</td>\n",
              "    </tr>\n",
              "    <tr>\n",
              "      <th>1</th>\n",
              "      <td>1</td>\n",
              "      <td>0</td>\n",
              "      <td>2016-01-01</td>\n",
              "      <td>-1.825863</td>\n",
              "      <td>0</td>\n",
              "      <td>-2.384460</td>\n",
              "      <td>1</td>\n",
              "      <td>0</td>\n",
              "      <td>0</td>\n",
              "      <td>0</td>\n",
              "      <td>0</td>\n",
              "      <td>0</td>\n",
              "      <td>0</td>\n",
              "      <td>0</td>\n",
              "      <td>0</td>\n",
              "      <td>0</td>\n",
              "      <td>0</td>\n",
              "      <td>0</td>\n",
              "      <td>0</td>\n",
              "      <td>0</td>\n",
              "      <td>0</td>\n",
              "      <td>0</td>\n",
              "      <td>0.834089</td>\n",
              "      <td>1.151061</td>\n",
              "      <td>1.249691</td>\n",
              "      <td>0.067746</td>\n",
              "      <td>1019.7</td>\n",
              "      <td>0.0</td>\n",
              "      <td>-1.847361</td>\n",
              "      <td>True</td>\n",
              "      <td>0</td>\n",
              "      <td>1</td>\n",
              "      <td>-1.837914</td>\n",
              "    </tr>\n",
              "    <tr>\n",
              "      <th>2</th>\n",
              "      <td>2</td>\n",
              "      <td>0</td>\n",
              "      <td>2016-01-01</td>\n",
              "      <td>-1.825863</td>\n",
              "      <td>0</td>\n",
              "      <td>-1.916981</td>\n",
              "      <td>1</td>\n",
              "      <td>0</td>\n",
              "      <td>0</td>\n",
              "      <td>0</td>\n",
              "      <td>0</td>\n",
              "      <td>0</td>\n",
              "      <td>0</td>\n",
              "      <td>0</td>\n",
              "      <td>0</td>\n",
              "      <td>0</td>\n",
              "      <td>0</td>\n",
              "      <td>0</td>\n",
              "      <td>0</td>\n",
              "      <td>0</td>\n",
              "      <td>0</td>\n",
              "      <td>0</td>\n",
              "      <td>0.834089</td>\n",
              "      <td>1.151061</td>\n",
              "      <td>1.249691</td>\n",
              "      <td>0.067746</td>\n",
              "      <td>1019.7</td>\n",
              "      <td>0.0</td>\n",
              "      <td>-1.847361</td>\n",
              "      <td>True</td>\n",
              "      <td>0</td>\n",
              "      <td>1</td>\n",
              "      <td>-0.933660</td>\n",
              "    </tr>\n",
              "    <tr>\n",
              "      <th>3</th>\n",
              "      <td>3</td>\n",
              "      <td>0</td>\n",
              "      <td>2016-01-01</td>\n",
              "      <td>-1.825863</td>\n",
              "      <td>0</td>\n",
              "      <td>-0.867037</td>\n",
              "      <td>1</td>\n",
              "      <td>0</td>\n",
              "      <td>0</td>\n",
              "      <td>0</td>\n",
              "      <td>0</td>\n",
              "      <td>0</td>\n",
              "      <td>0</td>\n",
              "      <td>0</td>\n",
              "      <td>0</td>\n",
              "      <td>0</td>\n",
              "      <td>0</td>\n",
              "      <td>0</td>\n",
              "      <td>0</td>\n",
              "      <td>0</td>\n",
              "      <td>0</td>\n",
              "      <td>0</td>\n",
              "      <td>0.834089</td>\n",
              "      <td>1.151061</td>\n",
              "      <td>1.249691</td>\n",
              "      <td>0.067746</td>\n",
              "      <td>1019.7</td>\n",
              "      <td>0.0</td>\n",
              "      <td>-1.847361</td>\n",
              "      <td>True</td>\n",
              "      <td>0</td>\n",
              "      <td>1</td>\n",
              "      <td>-1.682631</td>\n",
              "    </tr>\n",
              "    <tr>\n",
              "      <th>4</th>\n",
              "      <td>4</td>\n",
              "      <td>0</td>\n",
              "      <td>2016-01-01</td>\n",
              "      <td>-1.825863</td>\n",
              "      <td>0</td>\n",
              "      <td>0.312806</td>\n",
              "      <td>1</td>\n",
              "      <td>0</td>\n",
              "      <td>0</td>\n",
              "      <td>0</td>\n",
              "      <td>0</td>\n",
              "      <td>0</td>\n",
              "      <td>0</td>\n",
              "      <td>0</td>\n",
              "      <td>0</td>\n",
              "      <td>0</td>\n",
              "      <td>0</td>\n",
              "      <td>0</td>\n",
              "      <td>0</td>\n",
              "      <td>0</td>\n",
              "      <td>0</td>\n",
              "      <td>0</td>\n",
              "      <td>0.834089</td>\n",
              "      <td>1.151061</td>\n",
              "      <td>1.249691</td>\n",
              "      <td>0.067746</td>\n",
              "      <td>1019.7</td>\n",
              "      <td>0.0</td>\n",
              "      <td>-1.847361</td>\n",
              "      <td>True</td>\n",
              "      <td>0</td>\n",
              "      <td>1</td>\n",
              "      <td>-0.026442</td>\n",
              "    </tr>\n",
              "  </tbody>\n",
              "</table>\n",
              "</div>"
            ],
            "text/plain": [
              "   building_id  meter  timestamp  ...  hour  month  building_age\n",
              "0            0      0 2016-01-01  ...     0      1     -2.177341\n",
              "1            1      0 2016-01-01  ...     0      1     -1.837914\n",
              "2            2      0 2016-01-01  ...     0      1     -0.933660\n",
              "3            3      0 2016-01-01  ...     0      1     -1.682631\n",
              "4            4      0 2016-01-01  ...     0      1     -0.026442\n",
              "\n",
              "[5 rows x 33 columns]"
            ]
          },
          "metadata": {
            "tags": []
          },
          "execution_count": 45
        }
      ]
    },
    {
      "cell_type": "code",
      "metadata": {
        "id": "LR0MWR28HzYa",
        "colab_type": "code",
        "colab": {}
      },
      "source": [
        "target = train['meter_reading']\n",
        "del train['meter_reading']"
      ],
      "execution_count": 0,
      "outputs": []
    },
    {
      "cell_type": "code",
      "metadata": {
        "id": "ZTaebcMJIAqP",
        "colab_type": "code",
        "colab": {
          "base_uri": "https://localhost:8080/",
          "height": 51
        },
        "outputId": "8923541b-549c-4d7e-ea28-85f53548541b"
      },
      "source": [
        "#Splitting\n",
        "from sklearn.model_selection import train_test_split\n",
        "X_train, X_test, y_train, y_test = train_test_split(train, target, test_size=0.05, random_state=9)\n",
        "print(X_train.shape)\n",
        "print(X_test.shape)"
      ],
      "execution_count": 47,
      "outputs": [
        {
          "output_type": "stream",
          "text": [
            "(19204236, 32)\n",
            "(1010750, 32)\n"
          ],
          "name": "stdout"
        }
      ]
    },
    {
      "cell_type": "code",
      "metadata": {
        "id": "ncgmg6yCIN6X",
        "colab_type": "code",
        "colab": {}
      },
      "source": [
        "def df_clean(df):\n",
        " cols = ['meter', 'total_area', 'air_temperature', 'cloud_coverage', 'dew_temperature',  'precip_depth_1_hr',  'sea_level_pressure', 'wind_direction', 'wind_speed', 'weekday',  'hour', 'month',  'building_age', 'primary_use_Education',  'primary_use_Entertainment/public assembly',  'primary_use_Food sales and service', 'primary_use_Healthcare', 'primary_use_Lodging/residential',  'primary_use_Manufacturing/industrial', 'primary_use_Office', 'primary_use_Other',  'primary_use_Parking',  'primary_use_Public services',  'primary_use_Religious worship',  'primary_use_Retail', 'primary_use_Services', 'primary_use_Technology/science', 'primary_use_Utility',  'primary_use_Warehouse/storage']\n",
        " #df_copy = df.copy()\n",
        " #df_copy = df_copy[cols]\n",
        " return df[cols]"
      ],
      "execution_count": 0,
      "outputs": []
    },
    {
      "cell_type": "code",
      "metadata": {
        "id": "_MYi9z4CIkMJ",
        "colab_type": "code",
        "colab": {}
      },
      "source": [
        "X_train_model = df_clean(X_train)\n",
        "X_test_model = df_clean(X_test)"
      ],
      "execution_count": 0,
      "outputs": []
    },
    {
      "cell_type": "code",
      "metadata": {
        "id": "mLqU-6mBI30l",
        "colab_type": "code",
        "colab": {}
      },
      "source": [
        "def rmsle(expected, predicted):\n",
        "   return np.sqrt(np.mean(np.square(np.log(predicted + 1) - np.log(expected + 1))))"
      ],
      "execution_count": 0,
      "outputs": []
    },
    {
      "cell_type": "code",
      "metadata": {
        "id": "8Uz2NVFlIxxe",
        "colab_type": "code",
        "colab": {
          "base_uri": "https://localhost:8080/",
          "height": 34
        },
        "outputId": "02245bf5-1935-41fa-d5e7-0cb194d6da79"
      },
      "source": [
        "#Training - Linear Regression\n",
        "from sklearn.linear_model import LinearRegression\n",
        "lr = LinearRegression()\n",
        "lr.fit(X_train_model, y_train)"
      ],
      "execution_count": 51,
      "outputs": [
        {
          "output_type": "execute_result",
          "data": {
            "text/plain": [
              "LinearRegression(copy_X=True, fit_intercept=True, n_jobs=None, normalize=False)"
            ]
          },
          "metadata": {
            "tags": []
          },
          "execution_count": 51
        }
      ]
    },
    {
      "cell_type": "code",
      "metadata": {
        "id": "TuXZP9UZL6PJ",
        "colab_type": "code",
        "colab": {
          "base_uri": "https://localhost:8080/",
          "height": 139
        },
        "outputId": "52494e9b-ae2f-479c-9371-2cb77903a2ae"
      },
      "source": [
        "train_pred = lr.predict(X_train_model)\n",
        "X_train['meter_reading_predicted'] = train_pred"
      ],
      "execution_count": 52,
      "outputs": [
        {
          "output_type": "stream",
          "text": [
            "/usr/local/lib/python3.6/dist-packages/ipykernel_launcher.py:2: SettingWithCopyWarning: \n",
            "A value is trying to be set on a copy of a slice from a DataFrame.\n",
            "Try using .loc[row_indexer,col_indexer] = value instead\n",
            "\n",
            "See the caveats in the documentation: http://pandas.pydata.org/pandas-docs/stable/user_guide/indexing.html#returning-a-view-versus-a-copy\n",
            "  \n"
          ],
          "name": "stderr"
        }
      ]
    },
    {
      "cell_type": "code",
      "metadata": {
        "id": "TLjE60FFMQDF",
        "colab_type": "code",
        "colab": {
          "base_uri": "https://localhost:8080/",
          "height": 139
        },
        "outputId": "5fd6f912-1f44-43ca-ff08-0e1e6a96e77c"
      },
      "source": [
        "X_train['meter_reading_predicted'] = mr_pt.inverse_transform(X_train['meter_reading_predicted'].values.reshape([-1,1]))"
      ],
      "execution_count": 53,
      "outputs": [
        {
          "output_type": "stream",
          "text": [
            "/usr/local/lib/python3.6/dist-packages/ipykernel_launcher.py:1: SettingWithCopyWarning: \n",
            "A value is trying to be set on a copy of a slice from a DataFrame.\n",
            "Try using .loc[row_indexer,col_indexer] = value instead\n",
            "\n",
            "See the caveats in the documentation: http://pandas.pydata.org/pandas-docs/stable/user_guide/indexing.html#returning-a-view-versus-a-copy\n",
            "  \"\"\"Entry point for launching an IPython kernel.\n"
          ],
          "name": "stderr"
        }
      ]
    },
    {
      "cell_type": "code",
      "metadata": {
        "id": "0S08xHktMleF",
        "colab_type": "code",
        "colab": {
          "base_uri": "https://localhost:8080/",
          "height": 343
        },
        "outputId": "c3d90622-d636-42b9-c7cf-2e62b6c2c99c"
      },
      "source": [
        "X_train.head()"
      ],
      "execution_count": 54,
      "outputs": [
        {
          "output_type": "execute_result",
          "data": {
            "text/html": [
              "<div>\n",
              "<style scoped>\n",
              "    .dataframe tbody tr th:only-of-type {\n",
              "        vertical-align: middle;\n",
              "    }\n",
              "\n",
              "    .dataframe tbody tr th {\n",
              "        vertical-align: top;\n",
              "    }\n",
              "\n",
              "    .dataframe thead th {\n",
              "        text-align: right;\n",
              "    }\n",
              "</style>\n",
              "<table border=\"1\" class=\"dataframe\">\n",
              "  <thead>\n",
              "    <tr style=\"text-align: right;\">\n",
              "      <th></th>\n",
              "      <th>building_id</th>\n",
              "      <th>meter</th>\n",
              "      <th>timestamp</th>\n",
              "      <th>site_id</th>\n",
              "      <th>total_area</th>\n",
              "      <th>primary_use_Education</th>\n",
              "      <th>primary_use_Entertainment/public assembly</th>\n",
              "      <th>primary_use_Food sales and service</th>\n",
              "      <th>primary_use_Healthcare</th>\n",
              "      <th>primary_use_Lodging/residential</th>\n",
              "      <th>primary_use_Manufacturing/industrial</th>\n",
              "      <th>primary_use_Office</th>\n",
              "      <th>primary_use_Other</th>\n",
              "      <th>primary_use_Parking</th>\n",
              "      <th>primary_use_Public services</th>\n",
              "      <th>primary_use_Religious worship</th>\n",
              "      <th>primary_use_Retail</th>\n",
              "      <th>primary_use_Services</th>\n",
              "      <th>primary_use_Technology/science</th>\n",
              "      <th>primary_use_Utility</th>\n",
              "      <th>primary_use_Warehouse/storage</th>\n",
              "      <th>air_temperature</th>\n",
              "      <th>cloud_coverage</th>\n",
              "      <th>dew_temperature</th>\n",
              "      <th>precip_depth_1_hr</th>\n",
              "      <th>sea_level_pressure</th>\n",
              "      <th>wind_direction</th>\n",
              "      <th>wind_speed</th>\n",
              "      <th>weekday</th>\n",
              "      <th>hour</th>\n",
              "      <th>month</th>\n",
              "      <th>building_age</th>\n",
              "      <th>meter_reading_predicted</th>\n",
              "    </tr>\n",
              "  </thead>\n",
              "  <tbody>\n",
              "    <tr>\n",
              "      <th>10267804</th>\n",
              "      <td>893</td>\n",
              "      <td>0</td>\n",
              "      <td>2016-03-24 03:00:00</td>\n",
              "      <td>9</td>\n",
              "      <td>-0.363424</td>\n",
              "      <td>1</td>\n",
              "      <td>0</td>\n",
              "      <td>0</td>\n",
              "      <td>0</td>\n",
              "      <td>0</td>\n",
              "      <td>0</td>\n",
              "      <td>0</td>\n",
              "      <td>0</td>\n",
              "      <td>0</td>\n",
              "      <td>0</td>\n",
              "      <td>0</td>\n",
              "      <td>0</td>\n",
              "      <td>0</td>\n",
              "      <td>0</td>\n",
              "      <td>0</td>\n",
              "      <td>0</td>\n",
              "      <td>0.409726</td>\n",
              "      <td>0.750051</td>\n",
              "      <td>1.066941</td>\n",
              "      <td>0.067746</td>\n",
              "      <td>1006.7</td>\n",
              "      <td>150.000000</td>\n",
              "      <td>0.013163</td>\n",
              "      <td>True</td>\n",
              "      <td>3</td>\n",
              "      <td>3</td>\n",
              "      <td>-0.078986</td>\n",
              "      <td>44.078299</td>\n",
              "    </tr>\n",
              "    <tr>\n",
              "      <th>11133891</th>\n",
              "      <td>921</td>\n",
              "      <td>1</td>\n",
              "      <td>2016-07-20 14:00:00</td>\n",
              "      <td>9</td>\n",
              "      <td>0.933580</td>\n",
              "      <td>0</td>\n",
              "      <td>1</td>\n",
              "      <td>0</td>\n",
              "      <td>0</td>\n",
              "      <td>0</td>\n",
              "      <td>0</td>\n",
              "      <td>0</td>\n",
              "      <td>0</td>\n",
              "      <td>0</td>\n",
              "      <td>0</td>\n",
              "      <td>0</td>\n",
              "      <td>0</td>\n",
              "      <td>0</td>\n",
              "      <td>0</td>\n",
              "      <td>0</td>\n",
              "      <td>0</td>\n",
              "      <td>1.155563</td>\n",
              "      <td>0.143020</td>\n",
              "      <td>1.671798</td>\n",
              "      <td>0.067746</td>\n",
              "      <td>1020.8</td>\n",
              "      <td>46.666667</td>\n",
              "      <td>-0.791331</td>\n",
              "      <td>True</td>\n",
              "      <td>14</td>\n",
              "      <td>7</td>\n",
              "      <td>-0.078986</td>\n",
              "      <td>171.992724</td>\n",
              "    </tr>\n",
              "    <tr>\n",
              "      <th>5763855</th>\n",
              "      <td>534</td>\n",
              "      <td>0</td>\n",
              "      <td>2016-09-05 12:00:00</td>\n",
              "      <td>3</td>\n",
              "      <td>-3.125230</td>\n",
              "      <td>0</td>\n",
              "      <td>1</td>\n",
              "      <td>0</td>\n",
              "      <td>0</td>\n",
              "      <td>0</td>\n",
              "      <td>0</td>\n",
              "      <td>0</td>\n",
              "      <td>0</td>\n",
              "      <td>0</td>\n",
              "      <td>0</td>\n",
              "      <td>0</td>\n",
              "      <td>0</td>\n",
              "      <td>0</td>\n",
              "      <td>0</td>\n",
              "      <td>0</td>\n",
              "      <td>0</td>\n",
              "      <td>0.294940</td>\n",
              "      <td>0.143020</td>\n",
              "      <td>0.651015</td>\n",
              "      <td>0.067746</td>\n",
              "      <td>1024.0</td>\n",
              "      <td>350.000000</td>\n",
              "      <td>0.230373</td>\n",
              "      <td>True</td>\n",
              "      <td>12</td>\n",
              "      <td>9</td>\n",
              "      <td>-0.078986</td>\n",
              "      <td>2.331659</td>\n",
              "    </tr>\n",
              "    <tr>\n",
              "      <th>12065703</th>\n",
              "      <td>945</td>\n",
              "      <td>1</td>\n",
              "      <td>2016-11-24 17:00:00</td>\n",
              "      <td>9</td>\n",
              "      <td>1.118341</td>\n",
              "      <td>0</td>\n",
              "      <td>0</td>\n",
              "      <td>0</td>\n",
              "      <td>0</td>\n",
              "      <td>0</td>\n",
              "      <td>0</td>\n",
              "      <td>1</td>\n",
              "      <td>0</td>\n",
              "      <td>0</td>\n",
              "      <td>0</td>\n",
              "      <td>0</td>\n",
              "      <td>0</td>\n",
              "      <td>0</td>\n",
              "      <td>0</td>\n",
              "      <td>0</td>\n",
              "      <td>0</td>\n",
              "      <td>0.294940</td>\n",
              "      <td>-1.155279</td>\n",
              "      <td>0.188518</td>\n",
              "      <td>0.067746</td>\n",
              "      <td>1024.1</td>\n",
              "      <td>0.000000</td>\n",
              "      <td>-0.791331</td>\n",
              "      <td>True</td>\n",
              "      <td>17</td>\n",
              "      <td>11</td>\n",
              "      <td>-0.078986</td>\n",
              "      <td>226.880599</td>\n",
              "    </tr>\n",
              "    <tr>\n",
              "      <th>3310107</th>\n",
              "      <td>201</td>\n",
              "      <td>3</td>\n",
              "      <td>2016-08-31 03:00:00</td>\n",
              "      <td>2</td>\n",
              "      <td>0.796624</td>\n",
              "      <td>1</td>\n",
              "      <td>0</td>\n",
              "      <td>0</td>\n",
              "      <td>0</td>\n",
              "      <td>0</td>\n",
              "      <td>0</td>\n",
              "      <td>0</td>\n",
              "      <td>0</td>\n",
              "      <td>0</td>\n",
              "      <td>0</td>\n",
              "      <td>0</td>\n",
              "      <td>0</td>\n",
              "      <td>0</td>\n",
              "      <td>0</td>\n",
              "      <td>0</td>\n",
              "      <td>0</td>\n",
              "      <td>1.924617</td>\n",
              "      <td>0.750051</td>\n",
              "      <td>0.534647</td>\n",
              "      <td>0.067746</td>\n",
              "      <td>1006.0</td>\n",
              "      <td>90.000000</td>\n",
              "      <td>0.631694</td>\n",
              "      <td>True</td>\n",
              "      <td>3</td>\n",
              "      <td>8</td>\n",
              "      <td>-0.996242</td>\n",
              "      <td>175.181249</td>\n",
              "    </tr>\n",
              "  </tbody>\n",
              "</table>\n",
              "</div>"
            ],
            "text/plain": [
              "          building_id  meter  ... building_age  meter_reading_predicted\n",
              "10267804          893      0  ...    -0.078986                44.078299\n",
              "11133891          921      1  ...    -0.078986               171.992724\n",
              "5763855           534      0  ...    -0.078986                 2.331659\n",
              "12065703          945      1  ...    -0.078986               226.880599\n",
              "3310107           201      3  ...    -0.996242               175.181249\n",
              "\n",
              "[5 rows x 33 columns]"
            ]
          },
          "metadata": {
            "tags": []
          },
          "execution_count": 54
        }
      ]
    },
    {
      "cell_type": "code",
      "metadata": {
        "id": "ABs4lMPzM3Gx",
        "colab_type": "code",
        "colab": {
          "base_uri": "https://localhost:8080/",
          "height": 139
        },
        "outputId": "eb3c3d1c-6f1d-4be8-8aa8-42d2bf00eca4"
      },
      "source": [
        "X_train.loc[(X_train['building_id'].isin(site_zero_buildings)) & (X_train['meter'] == 0),'meter_reading_predicted'] = X_train.loc[(X_train['building_id'].isin(site_zero_buildings)) & (X_train['meter'] == 0),'meter_reading_predicted']/kbtu_conversion_factor"
      ],
      "execution_count": 55,
      "outputs": [
        {
          "output_type": "stream",
          "text": [
            "/usr/local/lib/python3.6/dist-packages/pandas/core/indexing.py:494: SettingWithCopyWarning: \n",
            "A value is trying to be set on a copy of a slice from a DataFrame.\n",
            "Try using .loc[row_indexer,col_indexer] = value instead\n",
            "\n",
            "See the caveats in the documentation: http://pandas.pydata.org/pandas-docs/stable/user_guide/indexing.html#returning-a-view-versus-a-copy\n",
            "  self.obj[item] = s\n"
          ],
          "name": "stderr"
        }
      ]
    },
    {
      "cell_type": "code",
      "metadata": {
        "id": "8lPx9QE1NqWN",
        "colab_type": "code",
        "colab": {
          "base_uri": "https://localhost:8080/",
          "height": 139
        },
        "outputId": "32fa53fb-15f5-4558-aa18-3a9ec39be5da"
      },
      "source": [
        "X_train['meter_reading'] = mr_pt.inverse_transform(y_train.values.reshape([-1,1]))"
      ],
      "execution_count": 56,
      "outputs": [
        {
          "output_type": "stream",
          "text": [
            "/usr/local/lib/python3.6/dist-packages/ipykernel_launcher.py:1: SettingWithCopyWarning: \n",
            "A value is trying to be set on a copy of a slice from a DataFrame.\n",
            "Try using .loc[row_indexer,col_indexer] = value instead\n",
            "\n",
            "See the caveats in the documentation: http://pandas.pydata.org/pandas-docs/stable/user_guide/indexing.html#returning-a-view-versus-a-copy\n",
            "  \"\"\"Entry point for launching an IPython kernel.\n"
          ],
          "name": "stderr"
        }
      ]
    },
    {
      "cell_type": "code",
      "metadata": {
        "id": "mSZabCzZN2wa",
        "colab_type": "code",
        "colab": {
          "base_uri": "https://localhost:8080/",
          "height": 139
        },
        "outputId": "d6647069-dd5b-4dca-e1c2-1f4c894bc7fa"
      },
      "source": [
        "X_train.loc[(X_train['building_id'].isin(site_zero_buildings)) & (X_train['meter'] == 0),'meter_reading'] = X_train.loc[(X_train['building_id'].isin(site_zero_buildings)) & (X_train['meter'] == 0),'meter_reading']/kbtu_conversion_factor"
      ],
      "execution_count": 57,
      "outputs": [
        {
          "output_type": "stream",
          "text": [
            "/usr/local/lib/python3.6/dist-packages/pandas/core/indexing.py:494: SettingWithCopyWarning: \n",
            "A value is trying to be set on a copy of a slice from a DataFrame.\n",
            "Try using .loc[row_indexer,col_indexer] = value instead\n",
            "\n",
            "See the caveats in the documentation: http://pandas.pydata.org/pandas-docs/stable/user_guide/indexing.html#returning-a-view-versus-a-copy\n",
            "  self.obj[item] = s\n"
          ],
          "name": "stderr"
        }
      ]
    },
    {
      "cell_type": "code",
      "metadata": {
        "id": "jWtzhCJ8OEGx",
        "colab_type": "code",
        "colab": {
          "base_uri": "https://localhost:8080/",
          "height": 88
        },
        "outputId": "ce7d432c-1213-4a1f-9936-15e61e1d2e9f"
      },
      "source": [
        "import numpy as np\n",
        "print('RMSLE:', rmsle(X_train['meter_reading'], X_train['meter_reading_predicted']))"
      ],
      "execution_count": 58,
      "outputs": [
        {
          "output_type": "stream",
          "text": [
            "/usr/local/lib/python3.6/dist-packages/pandas/core/series.py:856: RuntimeWarning: invalid value encountered in log\n",
            "  result = getattr(ufunc, method)(*inputs, **kwargs)\n"
          ],
          "name": "stderr"
        },
        {
          "output_type": "stream",
          "text": [
            "RMSLE: 1.9763884298847405\n"
          ],
          "name": "stdout"
        }
      ]
    },
    {
      "cell_type": "code",
      "metadata": {
        "id": "NAPRyDHtOodi",
        "colab_type": "code",
        "colab": {
          "base_uri": "https://localhost:8080/",
          "height": 139
        },
        "outputId": "7135401c-301c-4da0-9437-a39d8db64cb1"
      },
      "source": [
        "train_pred = lr.predict(X_test_model)\n",
        "X_test['meter_reading_predicted'] = train_pred"
      ],
      "execution_count": 59,
      "outputs": [
        {
          "output_type": "stream",
          "text": [
            "/usr/local/lib/python3.6/dist-packages/ipykernel_launcher.py:2: SettingWithCopyWarning: \n",
            "A value is trying to be set on a copy of a slice from a DataFrame.\n",
            "Try using .loc[row_indexer,col_indexer] = value instead\n",
            "\n",
            "See the caveats in the documentation: http://pandas.pydata.org/pandas-docs/stable/user_guide/indexing.html#returning-a-view-versus-a-copy\n",
            "  \n"
          ],
          "name": "stderr"
        }
      ]
    },
    {
      "cell_type": "code",
      "metadata": {
        "id": "ICA8BCqFPlHQ",
        "colab_type": "code",
        "colab": {
          "base_uri": "https://localhost:8080/",
          "height": 139
        },
        "outputId": "05f15100-099c-49ea-ed71-28400f2d1d8f"
      },
      "source": [
        "X_test['meter_reading_predicted'] = mr_pt.inverse_transform(X_test['meter_reading_predicted'].values.reshape([-1,1]))"
      ],
      "execution_count": 60,
      "outputs": [
        {
          "output_type": "stream",
          "text": [
            "/usr/local/lib/python3.6/dist-packages/ipykernel_launcher.py:1: SettingWithCopyWarning: \n",
            "A value is trying to be set on a copy of a slice from a DataFrame.\n",
            "Try using .loc[row_indexer,col_indexer] = value instead\n",
            "\n",
            "See the caveats in the documentation: http://pandas.pydata.org/pandas-docs/stable/user_guide/indexing.html#returning-a-view-versus-a-copy\n",
            "  \"\"\"Entry point for launching an IPython kernel.\n"
          ],
          "name": "stderr"
        }
      ]
    },
    {
      "cell_type": "code",
      "metadata": {
        "id": "sWyx7d6QPrG-",
        "colab_type": "code",
        "colab": {
          "base_uri": "https://localhost:8080/",
          "height": 139
        },
        "outputId": "8896f11f-0bbe-4692-9df7-0564db6594e1"
      },
      "source": [
        "X_test.loc[(X_test['building_id'].isin(site_zero_buildings)) & (X_test['meter'] == 0),'meter_reading_predicted'] = X_test.loc[(X_test['building_id'].isin(site_zero_buildings)) & (X_test['meter'] == 0),'meter_reading_predicted']/kbtu_conversion_factor"
      ],
      "execution_count": 61,
      "outputs": [
        {
          "output_type": "stream",
          "text": [
            "/usr/local/lib/python3.6/dist-packages/pandas/core/indexing.py:494: SettingWithCopyWarning: \n",
            "A value is trying to be set on a copy of a slice from a DataFrame.\n",
            "Try using .loc[row_indexer,col_indexer] = value instead\n",
            "\n",
            "See the caveats in the documentation: http://pandas.pydata.org/pandas-docs/stable/user_guide/indexing.html#returning-a-view-versus-a-copy\n",
            "  self.obj[item] = s\n"
          ],
          "name": "stderr"
        }
      ]
    },
    {
      "cell_type": "code",
      "metadata": {
        "id": "ru5Xkos0QDOS",
        "colab_type": "code",
        "colab": {
          "base_uri": "https://localhost:8080/",
          "height": 139
        },
        "outputId": "9da5910a-f373-46cf-90ee-e757d14de99e"
      },
      "source": [
        "X_test['meter_reading'] = mr_pt.inverse_transform(y_test.values.reshape([-1,1]))"
      ],
      "execution_count": 62,
      "outputs": [
        {
          "output_type": "stream",
          "text": [
            "/usr/local/lib/python3.6/dist-packages/ipykernel_launcher.py:1: SettingWithCopyWarning: \n",
            "A value is trying to be set on a copy of a slice from a DataFrame.\n",
            "Try using .loc[row_indexer,col_indexer] = value instead\n",
            "\n",
            "See the caveats in the documentation: http://pandas.pydata.org/pandas-docs/stable/user_guide/indexing.html#returning-a-view-versus-a-copy\n",
            "  \"\"\"Entry point for launching an IPython kernel.\n"
          ],
          "name": "stderr"
        }
      ]
    },
    {
      "cell_type": "code",
      "metadata": {
        "id": "NbeheAUmQX6b",
        "colab_type": "code",
        "colab": {
          "base_uri": "https://localhost:8080/",
          "height": 139
        },
        "outputId": "99e6d0d4-9f15-4465-de3b-5d37c86fb36e"
      },
      "source": [
        "X_test.loc[(X_test['building_id'].isin(site_zero_buildings)) & (X_test['meter'] == 0),'meter_reading'] = X_test.loc[(X_test['building_id'].isin(site_zero_buildings)) & (X_test['meter'] == 0),'meter_reading']/kbtu_conversion_factor"
      ],
      "execution_count": 63,
      "outputs": [
        {
          "output_type": "stream",
          "text": [
            "/usr/local/lib/python3.6/dist-packages/pandas/core/indexing.py:494: SettingWithCopyWarning: \n",
            "A value is trying to be set on a copy of a slice from a DataFrame.\n",
            "Try using .loc[row_indexer,col_indexer] = value instead\n",
            "\n",
            "See the caveats in the documentation: http://pandas.pydata.org/pandas-docs/stable/user_guide/indexing.html#returning-a-view-versus-a-copy\n",
            "  self.obj[item] = s\n"
          ],
          "name": "stderr"
        }
      ]
    },
    {
      "cell_type": "code",
      "metadata": {
        "id": "Ct3JG4C3QjIf",
        "colab_type": "code",
        "colab": {
          "base_uri": "https://localhost:8080/",
          "height": 88
        },
        "outputId": "800672e0-207a-4d28-b531-040f6dff5c4d"
      },
      "source": [
        "print('Test RMSLE:', rmsle(X_test['meter_reading'], X_test['meter_reading_predicted']))"
      ],
      "execution_count": 64,
      "outputs": [
        {
          "output_type": "stream",
          "text": [
            "Test RMSLE: 1.9781520554203855\n"
          ],
          "name": "stdout"
        },
        {
          "output_type": "stream",
          "text": [
            "/usr/local/lib/python3.6/dist-packages/pandas/core/series.py:856: RuntimeWarning: invalid value encountered in log\n",
            "  result = getattr(ufunc, method)(*inputs, **kwargs)\n"
          ],
          "name": "stderr"
        }
      ]
    },
    {
      "cell_type": "code",
      "metadata": {
        "id": "TZzBSVOcQr1E",
        "colab_type": "code",
        "colab": {
          "base_uri": "https://localhost:8080/",
          "height": 34
        },
        "outputId": "af015738-d4ef-45d2-f437-aff849a0bc53"
      },
      "source": [
        "import joblib\n",
        "joblib.dump([lr,at_pt,cc_pt,dew_pt,pre_pt,ws_pt,ta_pt,ba_pt,mr_pt],'lr_model.pkl')"
      ],
      "execution_count": 65,
      "outputs": [
        {
          "output_type": "execute_result",
          "data": {
            "text/plain": [
              "['lr_model.pkl']"
            ]
          },
          "metadata": {
            "tags": []
          },
          "execution_count": 65
        }
      ]
    },
    {
      "cell_type": "code",
      "metadata": {
        "id": "9NRsL5UORf8f",
        "colab_type": "code",
        "colab": {
          "base_uri": "https://localhost:8080/",
          "height": 204
        },
        "outputId": "9b790925-25e0-4fb3-fb78-17d288268ca2"
      },
      "source": [
        "test_data.head()"
      ],
      "execution_count": 66,
      "outputs": [
        {
          "output_type": "execute_result",
          "data": {
            "text/html": [
              "<div>\n",
              "<style scoped>\n",
              "    .dataframe tbody tr th:only-of-type {\n",
              "        vertical-align: middle;\n",
              "    }\n",
              "\n",
              "    .dataframe tbody tr th {\n",
              "        vertical-align: top;\n",
              "    }\n",
              "\n",
              "    .dataframe thead th {\n",
              "        text-align: right;\n",
              "    }\n",
              "</style>\n",
              "<table border=\"1\" class=\"dataframe\">\n",
              "  <thead>\n",
              "    <tr style=\"text-align: right;\">\n",
              "      <th></th>\n",
              "      <th>row_id</th>\n",
              "      <th>building_id</th>\n",
              "      <th>meter</th>\n",
              "      <th>timestamp</th>\n",
              "    </tr>\n",
              "  </thead>\n",
              "  <tbody>\n",
              "    <tr>\n",
              "      <th>0</th>\n",
              "      <td>0</td>\n",
              "      <td>0</td>\n",
              "      <td>0</td>\n",
              "      <td>2017-01-01 00:00:00</td>\n",
              "    </tr>\n",
              "    <tr>\n",
              "      <th>1</th>\n",
              "      <td>1</td>\n",
              "      <td>1</td>\n",
              "      <td>0</td>\n",
              "      <td>2017-01-01 00:00:00</td>\n",
              "    </tr>\n",
              "    <tr>\n",
              "      <th>2</th>\n",
              "      <td>2</td>\n",
              "      <td>2</td>\n",
              "      <td>0</td>\n",
              "      <td>2017-01-01 00:00:00</td>\n",
              "    </tr>\n",
              "    <tr>\n",
              "      <th>3</th>\n",
              "      <td>3</td>\n",
              "      <td>3</td>\n",
              "      <td>0</td>\n",
              "      <td>2017-01-01 00:00:00</td>\n",
              "    </tr>\n",
              "    <tr>\n",
              "      <th>4</th>\n",
              "      <td>4</td>\n",
              "      <td>4</td>\n",
              "      <td>0</td>\n",
              "      <td>2017-01-01 00:00:00</td>\n",
              "    </tr>\n",
              "  </tbody>\n",
              "</table>\n",
              "</div>"
            ],
            "text/plain": [
              "   row_id  building_id  meter            timestamp\n",
              "0       0            0      0  2017-01-01 00:00:00\n",
              "1       1            1      0  2017-01-01 00:00:00\n",
              "2       2            2      0  2017-01-01 00:00:00\n",
              "3       3            3      0  2017-01-01 00:00:00\n",
              "4       4            4      0  2017-01-01 00:00:00"
            ]
          },
          "metadata": {
            "tags": []
          },
          "execution_count": 66
        }
      ]
    },
    {
      "cell_type": "code",
      "metadata": {
        "id": "gT-yO0R6Rpfo",
        "colab_type": "code",
        "colab": {
          "base_uri": "https://localhost:8080/",
          "height": 309
        },
        "outputId": "853b26bb-6075-4c42-88b3-5e78543845ad"
      },
      "source": [
        "weather_test.head()"
      ],
      "execution_count": 67,
      "outputs": [
        {
          "output_type": "execute_result",
          "data": {
            "text/html": [
              "<div>\n",
              "<style scoped>\n",
              "    .dataframe tbody tr th:only-of-type {\n",
              "        vertical-align: middle;\n",
              "    }\n",
              "\n",
              "    .dataframe tbody tr th {\n",
              "        vertical-align: top;\n",
              "    }\n",
              "\n",
              "    .dataframe thead th {\n",
              "        text-align: right;\n",
              "    }\n",
              "</style>\n",
              "<table border=\"1\" class=\"dataframe\">\n",
              "  <thead>\n",
              "    <tr style=\"text-align: right;\">\n",
              "      <th></th>\n",
              "      <th>site_id</th>\n",
              "      <th>timestamp</th>\n",
              "      <th>air_temperature</th>\n",
              "      <th>cloud_coverage</th>\n",
              "      <th>dew_temperature</th>\n",
              "      <th>precip_depth_1_hr</th>\n",
              "      <th>sea_level_pressure</th>\n",
              "      <th>wind_direction</th>\n",
              "      <th>wind_speed</th>\n",
              "    </tr>\n",
              "  </thead>\n",
              "  <tbody>\n",
              "    <tr>\n",
              "      <th>0</th>\n",
              "      <td>0</td>\n",
              "      <td>2017-01-01 00:00:00</td>\n",
              "      <td>17.8</td>\n",
              "      <td>4.0</td>\n",
              "      <td>11.7</td>\n",
              "      <td>NaN</td>\n",
              "      <td>1021.4</td>\n",
              "      <td>100.0</td>\n",
              "      <td>3.6</td>\n",
              "    </tr>\n",
              "    <tr>\n",
              "      <th>1</th>\n",
              "      <td>0</td>\n",
              "      <td>2017-01-01 01:00:00</td>\n",
              "      <td>17.8</td>\n",
              "      <td>2.0</td>\n",
              "      <td>12.8</td>\n",
              "      <td>0.0</td>\n",
              "      <td>1022.0</td>\n",
              "      <td>130.0</td>\n",
              "      <td>3.1</td>\n",
              "    </tr>\n",
              "    <tr>\n",
              "      <th>2</th>\n",
              "      <td>0</td>\n",
              "      <td>2017-01-01 02:00:00</td>\n",
              "      <td>16.1</td>\n",
              "      <td>0.0</td>\n",
              "      <td>12.8</td>\n",
              "      <td>0.0</td>\n",
              "      <td>1021.9</td>\n",
              "      <td>140.0</td>\n",
              "      <td>3.1</td>\n",
              "    </tr>\n",
              "    <tr>\n",
              "      <th>3</th>\n",
              "      <td>0</td>\n",
              "      <td>2017-01-01 03:00:00</td>\n",
              "      <td>17.2</td>\n",
              "      <td>0.0</td>\n",
              "      <td>13.3</td>\n",
              "      <td>0.0</td>\n",
              "      <td>1022.2</td>\n",
              "      <td>140.0</td>\n",
              "      <td>3.1</td>\n",
              "    </tr>\n",
              "    <tr>\n",
              "      <th>4</th>\n",
              "      <td>0</td>\n",
              "      <td>2017-01-01 04:00:00</td>\n",
              "      <td>16.7</td>\n",
              "      <td>2.0</td>\n",
              "      <td>13.3</td>\n",
              "      <td>0.0</td>\n",
              "      <td>1022.3</td>\n",
              "      <td>130.0</td>\n",
              "      <td>2.6</td>\n",
              "    </tr>\n",
              "  </tbody>\n",
              "</table>\n",
              "</div>"
            ],
            "text/plain": [
              "   site_id            timestamp  ...  wind_direction  wind_speed\n",
              "0        0  2017-01-01 00:00:00  ...           100.0         3.6\n",
              "1        0  2017-01-01 01:00:00  ...           130.0         3.1\n",
              "2        0  2017-01-01 02:00:00  ...           140.0         3.1\n",
              "3        0  2017-01-01 03:00:00  ...           140.0         3.1\n",
              "4        0  2017-01-01 04:00:00  ...           130.0         2.6\n",
              "\n",
              "[5 rows x 9 columns]"
            ]
          },
          "metadata": {
            "tags": []
          },
          "execution_count": 67
        }
      ]
    },
    {
      "cell_type": "code",
      "metadata": {
        "id": "_DqNI4mORuk5",
        "colab_type": "code",
        "colab": {}
      },
      "source": [
        "weather_test['timestamp'] = pd.to_datetime(weather_test['timestamp'])\n",
        "test_data['timestamp'] = pd.to_datetime(test_data['timestamp'])"
      ],
      "execution_count": 0,
      "outputs": []
    },
    {
      "cell_type": "code",
      "metadata": {
        "id": "owFb8jMXR6BH",
        "colab_type": "code",
        "colab": {}
      },
      "source": [
        "for site in weather_test['site_id'].unique():\n",
        "  weather_test[weather_test['site_id'] == site] = weather_test[weather_test['site_id'] == site].interpolate(method=\"linear\")"
      ],
      "execution_count": 0,
      "outputs": []
    },
    {
      "cell_type": "code",
      "metadata": {
        "id": "E5-lAG2aSQ_Z",
        "colab_type": "code",
        "colab": {
          "base_uri": "https://localhost:8080/",
          "height": 187
        },
        "outputId": "aba12934-2480-4996-bb98-d1398dc948a3"
      },
      "source": [
        "weather_test.isnull().sum()"
      ],
      "execution_count": 70,
      "outputs": [
        {
          "output_type": "execute_result",
          "data": {
            "text/plain": [
              "site_id                   0\n",
              "timestamp                 0\n",
              "air_temperature           0\n",
              "cloud_coverage        33221\n",
              "dew_temperature           0\n",
              "precip_depth_1_hr     51812\n",
              "sea_level_pressure    17241\n",
              "wind_direction            0\n",
              "wind_speed                0\n",
              "dtype: int64"
            ]
          },
          "metadata": {
            "tags": []
          },
          "execution_count": 70
        }
      ]
    },
    {
      "cell_type": "code",
      "metadata": {
        "id": "S_CgEYDXSYD4",
        "colab_type": "code",
        "colab": {}
      },
      "source": [
        "#Filling missing values for sea_level_pressure with mean and precip_depth_1_hr, cloud_coverage with mode\n",
        "weather_test.loc[(weather_test['sea_level_pressure'].isnull()), 'sea_level_pressure'] = weather_test['sea_level_pressure'].mean()\n",
        "weather_test.loc[(weather_test['precip_depth_1_hr'].isnull()), 'precip_depth_1_hr'] = 0.0\n",
        "weather_test.loc[(weather_test['cloud_coverage'].isnull()), 'cloud_coverage'] = 0.0"
      ],
      "execution_count": 0,
      "outputs": []
    },
    {
      "cell_type": "code",
      "metadata": {
        "id": "y7Z-ZuXJS6Nj",
        "colab_type": "code",
        "colab": {
          "base_uri": "https://localhost:8080/",
          "height": 34
        },
        "outputId": "f5c77c67-792a-4ffa-be78-4b4d82d0fadc"
      },
      "source": [
        "test_data.shape"
      ],
      "execution_count": 72,
      "outputs": [
        {
          "output_type": "execute_result",
          "data": {
            "text/plain": [
              "(41697600, 4)"
            ]
          },
          "metadata": {
            "tags": []
          },
          "execution_count": 72
        }
      ]
    },
    {
      "cell_type": "code",
      "metadata": {
        "id": "SfZS7MlkSrIt",
        "colab_type": "code",
        "colab": {}
      },
      "source": [
        "merged_test_building = pd.merge(test_data, building_meta, on='building_id')"
      ],
      "execution_count": 0,
      "outputs": []
    },
    {
      "cell_type": "code",
      "metadata": {
        "id": "qarRUkSsS9ZK",
        "colab_type": "code",
        "colab": {
          "base_uri": "https://localhost:8080/",
          "height": 34
        },
        "outputId": "ada112d0-4655-41fd-d199-282710a7a9c2"
      },
      "source": [
        "merged_test_building.shape"
      ],
      "execution_count": 74,
      "outputs": [
        {
          "output_type": "execute_result",
          "data": {
            "text/plain": [
              "(41697600, 23)"
            ]
          },
          "metadata": {
            "tags": []
          },
          "execution_count": 74
        }
      ]
    },
    {
      "cell_type": "code",
      "metadata": {
        "id": "yTvYaDmQS_0K",
        "colab_type": "code",
        "colab": {}
      },
      "source": [
        "test_final = pd.merge(merged_test_building, weather_test, on=['site_id','timestamp'],how=\"left\")"
      ],
      "execution_count": 0,
      "outputs": []
    },
    {
      "cell_type": "code",
      "metadata": {
        "id": "pT5qiqotTQlN",
        "colab_type": "code",
        "colab": {
          "base_uri": "https://localhost:8080/",
          "height": 34
        },
        "outputId": "036241ba-6b0b-4d64-dc9d-166f8bdb848e"
      },
      "source": [
        "test_final.shape"
      ],
      "execution_count": 76,
      "outputs": [
        {
          "output_type": "execute_result",
          "data": {
            "text/plain": [
              "(41697600, 30)"
            ]
          },
          "metadata": {
            "tags": []
          },
          "execution_count": 76
        }
      ]
    },
    {
      "cell_type": "code",
      "metadata": {
        "id": "K3jrfpUFTTvb",
        "colab_type": "code",
        "colab": {
          "base_uri": "https://localhost:8080/",
          "height": 544
        },
        "outputId": "0eb29954-9e80-407b-a354-03accc62a207"
      },
      "source": [
        "test_final.isnull().sum()"
      ],
      "execution_count": 77,
      "outputs": [
        {
          "output_type": "execute_result",
          "data": {
            "text/plain": [
              "row_id                                            0\n",
              "building_id                                       0\n",
              "meter                                             0\n",
              "timestamp                                         0\n",
              "site_id                                           0\n",
              "year_built                                        0\n",
              "total_area                                        0\n",
              "primary_use_Education                             0\n",
              "primary_use_Entertainment/public assembly         0\n",
              "primary_use_Food sales and service                0\n",
              "primary_use_Healthcare                            0\n",
              "primary_use_Lodging/residential                   0\n",
              "primary_use_Manufacturing/industrial              0\n",
              "primary_use_Office                                0\n",
              "primary_use_Other                                 0\n",
              "primary_use_Parking                               0\n",
              "primary_use_Public services                       0\n",
              "primary_use_Religious worship                     0\n",
              "primary_use_Retail                                0\n",
              "primary_use_Services                              0\n",
              "primary_use_Technology/science                    0\n",
              "primary_use_Utility                               0\n",
              "primary_use_Warehouse/storage                     0\n",
              "air_temperature                              199029\n",
              "cloud_coverage                               199029\n",
              "dew_temperature                              199029\n",
              "precip_depth_1_hr                            199029\n",
              "sea_level_pressure                           199029\n",
              "wind_direction                               199029\n",
              "wind_speed                                   199029\n",
              "dtype: int64"
            ]
          },
          "metadata": {
            "tags": []
          },
          "execution_count": 77
        }
      ]
    },
    {
      "cell_type": "code",
      "metadata": {
        "id": "-wUtROSZZHqX",
        "colab_type": "code",
        "colab": {}
      },
      "source": [
        "test_final.loc[(test_final['air_temperature'].isnull()), 'air_temperature'] = test_final['air_temperature'].mean()\n",
        "test_final.loc[(test_final['cloud_coverage'].isnull()), 'cloud_coverage'] = test_final['cloud_coverage'].mean()\n",
        "test_final.loc[(test_final['dew_temperature'].isnull()), 'dew_temperature'] = test_final['dew_temperature'].mean()\n",
        "test_final.loc[(test_final['precip_depth_1_hr'].isnull()), 'precip_depth_1_hr'] = 0\n",
        "test_final.loc[(test_final['sea_level_pressure'].isnull()), 'sea_level_pressure'] = test_final['sea_level_pressure'].mean()\n",
        "test_final.loc[(test_final['wind_direction'].isnull()), 'wind_direction'] = test_final['wind_direction'].mean()\n",
        "test_final.loc[(test_final['wind_speed'].isnull()), 'wind_speed'] = test_final['wind_speed'].mean()"
      ],
      "execution_count": 0,
      "outputs": []
    },
    {
      "cell_type": "code",
      "metadata": {
        "id": "LfjC2RdwZyWL",
        "colab_type": "code",
        "colab": {}
      },
      "source": [
        "test_final['weekday'] = test_final['timestamp'].dt.weekday"
      ],
      "execution_count": 0,
      "outputs": []
    },
    {
      "cell_type": "code",
      "metadata": {
        "id": "9wTVySrLaayq",
        "colab_type": "code",
        "colab": {}
      },
      "source": [
        "test_final['weekday'] = test_final['weekday'].isin([0,1,2,3,4])"
      ],
      "execution_count": 0,
      "outputs": []
    },
    {
      "cell_type": "code",
      "metadata": {
        "id": "4ePmzSmhaewP",
        "colab_type": "code",
        "colab": {}
      },
      "source": [
        "test_final['hour'] = test_final['timestamp'].dt.hour"
      ],
      "execution_count": 0,
      "outputs": []
    },
    {
      "cell_type": "code",
      "metadata": {
        "id": "_QVFRBtUagmr",
        "colab_type": "code",
        "colab": {}
      },
      "source": [
        "test_final['month'] = test_final['timestamp'].dt.month"
      ],
      "execution_count": 0,
      "outputs": []
    },
    {
      "cell_type": "code",
      "metadata": {
        "id": "AQZEXOxVaijN",
        "colab_type": "code",
        "colab": {}
      },
      "source": [
        "test_final['year'] = test_final['timestamp'].dt.year"
      ],
      "execution_count": 0,
      "outputs": []
    },
    {
      "cell_type": "code",
      "metadata": {
        "id": "D-x-LH-aakqN",
        "colab_type": "code",
        "colab": {}
      },
      "source": [
        "test_final['building_age'] = test_final['year'] - test_final['year_built']"
      ],
      "execution_count": 0,
      "outputs": []
    },
    {
      "cell_type": "code",
      "metadata": {
        "id": "WFfsPfFZaoWv",
        "colab_type": "code",
        "colab": {}
      },
      "source": [
        "del test_final['year_built']\n",
        "del test_final['year']"
      ],
      "execution_count": 0,
      "outputs": []
    },
    {
      "cell_type": "code",
      "metadata": {
        "id": "IFOhJhaja57h",
        "colab_type": "code",
        "colab": {}
      },
      "source": [
        "test_final['air_temperature'] = at_pt.transform(test_final[['air_temperature']])"
      ],
      "execution_count": 0,
      "outputs": []
    },
    {
      "cell_type": "code",
      "metadata": {
        "id": "D718LOEna6sM",
        "colab_type": "code",
        "colab": {}
      },
      "source": [
        "test_final['cloud_coverage'] = cc_pt.transform(test_final[['cloud_coverage']])"
      ],
      "execution_count": 0,
      "outputs": []
    },
    {
      "cell_type": "code",
      "metadata": {
        "id": "Cn_8KlpPa_2p",
        "colab_type": "code",
        "colab": {}
      },
      "source": [
        "test_final['dew_temperature'] = dew_pt.transform(test_final[['dew_temperature']])"
      ],
      "execution_count": 0,
      "outputs": []
    },
    {
      "cell_type": "code",
      "metadata": {
        "id": "Np3paEkibCwd",
        "colab_type": "code",
        "colab": {}
      },
      "source": [
        "test_final['precip_depth_1_hr'] = pre_pt.transform(test_final[['precip_depth_1_hr']])"
      ],
      "execution_count": 0,
      "outputs": []
    },
    {
      "cell_type": "code",
      "metadata": {
        "id": "1gEkpYxHbFJp",
        "colab_type": "code",
        "colab": {}
      },
      "source": [
        "test_final['wind_speed'] = ws_pt.transform(test_final[['wind_speed']])"
      ],
      "execution_count": 0,
      "outputs": []
    },
    {
      "cell_type": "code",
      "metadata": {
        "id": "m_ZB24HhbHqr",
        "colab_type": "code",
        "colab": {}
      },
      "source": [
        "test_final['total_area'] = ta_pt.transform(test_final[['total_area']])"
      ],
      "execution_count": 0,
      "outputs": []
    },
    {
      "cell_type": "code",
      "metadata": {
        "id": "dIAXL58HbKhA",
        "colab_type": "code",
        "colab": {}
      },
      "source": [
        "test_final['building_age'] = ba_pt.transform(test_final[['building_age']])"
      ],
      "execution_count": 0,
      "outputs": []
    },
    {
      "cell_type": "code",
      "metadata": {
        "id": "u93_Jfajb6ju",
        "colab_type": "code",
        "colab": {}
      },
      "source": [
        "x_test_final_model = df_clean(test_final)"
      ],
      "execution_count": 0,
      "outputs": []
    },
    {
      "cell_type": "code",
      "metadata": {
        "id": "BJYVOCI9ccLg",
        "colab_type": "code",
        "colab": {}
      },
      "source": [
        "#test_final_pred = lr.predict(x_test_final_model)\n",
        "#test_final['meter_reading'] = test_final_pred"
      ],
      "execution_count": 0,
      "outputs": []
    },
    {
      "cell_type": "code",
      "metadata": {
        "id": "Sj3wEjJPr0-m",
        "colab_type": "code",
        "colab": {}
      },
      "source": [
        "small_count = int(len(x_test_final_model)/10)\n",
        "test_final_latest = pd.DataFrame([])\n",
        "for i in range(10):\n",
        "  #test_final_pred = lr.predict(x_test_final_model[small_count*i:small_count*(i+1)])\n",
        "  test_final_latest = test_final_latest.append(pd.DataFrame(lr.predict(x_test_final_model[small_count*i:small_count*(i+1)])))"
      ],
      "execution_count": 0,
      "outputs": []
    },
    {
      "cell_type": "code",
      "metadata": {
        "id": "WcPc8vH5tJTJ",
        "colab_type": "code",
        "colab": {}
      },
      "source": [
        "test_final['meter_reading'] = test_final_latest.values.flatten()"
      ],
      "execution_count": 0,
      "outputs": []
    },
    {
      "cell_type": "code",
      "metadata": {
        "id": "JClBQikhckTx",
        "colab_type": "code",
        "colab": {}
      },
      "source": [
        "test_final['meter_reading'] = mr_pt.inverse_transform(test_final['meter_reading'].values.reshape([-1,1]))"
      ],
      "execution_count": 0,
      "outputs": []
    },
    {
      "cell_type": "code",
      "metadata": {
        "id": "Rz3_noCkLRBY",
        "colab_type": "code",
        "colab": {}
      },
      "source": [
        "#test_final.loc[(test_final['building_id'].isin(site_zero_buildings)) & (test_final['meter'] == 0),'meter_reading'] = test_final.loc[(test_final['building_id'].isin(site_zero_buildings)) & (test_final['meter'] == 0),'meter_reading']/kbtu_conversion_factor"
      ],
      "execution_count": 0,
      "outputs": []
    },
    {
      "cell_type": "code",
      "metadata": {
        "id": "6rkHgJHlTmjl",
        "colab_type": "code",
        "colab": {}
      },
      "source": [
        "del test_final['total_area']\n",
        "del test_final['air_temperature']\n",
        "del test_final['cloud_coverage']\n",
        "del test_final['dew_temperature']\n",
        "del test_final['precip_depth_1_hr']\n",
        "del test_final['sea_level_pressure']\n",
        "del test_final['wind_direction']\n",
        "del test_final['wind_speed']\n",
        "del test_final['weekday']\n",
        "del test_final['hour']\n",
        "del test_final['month']\n",
        "del test_final['building_age']\n",
        "del test_final['primary_use_Education']\n",
        "del test_final['primary_use_Entertainment/public assembly']\n",
        "del test_final['primary_use_Food sales and service']\n",
        "del test_final['primary_use_Healthcare']\n",
        "del test_final['primary_use_Lodging/residential']\n",
        "del test_final['primary_use_Manufacturing/industrial']\n",
        "del test_final['primary_use_Office']\n",
        "del test_final['primary_use_Other']\n",
        "del test_final['primary_use_Parking']\n",
        "del test_final['primary_use_Public']\n",
        "del test_final['primary_use_Religious worship']\n",
        "del test_final['primary_use_Retail']\n",
        "#del test_final['primary_use_Services']\n",
        "del test_final['primary_use_Technology/science']\n",
        "del test_final['primary_use_Utility']\n",
        "del test_final['primary_use_Warehouse/storage']\n"
      ],
      "execution_count": 0,
      "outputs": []
    },
    {
      "cell_type": "code",
      "metadata": {
        "id": "X5s4oZr_VP59",
        "colab_type": "code",
        "colab": {}
      },
      "source": [
        "del test_final['primary_use_Public services']"
      ],
      "execution_count": 0,
      "outputs": []
    },
    {
      "cell_type": "code",
      "metadata": {
        "id": "hyLlyZPlU-nC",
        "colab_type": "code",
        "colab": {
          "base_uri": "https://localhost:8080/",
          "height": 204
        },
        "outputId": "927c4a85-0b4e-4cb1-cad4-0f0bde51c80a"
      },
      "source": [
        "test_final.head()"
      ],
      "execution_count": 106,
      "outputs": [
        {
          "output_type": "execute_result",
          "data": {
            "text/html": [
              "<div>\n",
              "<style scoped>\n",
              "    .dataframe tbody tr th:only-of-type {\n",
              "        vertical-align: middle;\n",
              "    }\n",
              "\n",
              "    .dataframe tbody tr th {\n",
              "        vertical-align: top;\n",
              "    }\n",
              "\n",
              "    .dataframe thead th {\n",
              "        text-align: right;\n",
              "    }\n",
              "</style>\n",
              "<table border=\"1\" class=\"dataframe\">\n",
              "  <thead>\n",
              "    <tr style=\"text-align: right;\">\n",
              "      <th></th>\n",
              "      <th>row_id</th>\n",
              "      <th>building_id</th>\n",
              "      <th>meter</th>\n",
              "      <th>timestamp</th>\n",
              "      <th>site_id</th>\n",
              "      <th>meter_reading</th>\n",
              "    </tr>\n",
              "  </thead>\n",
              "  <tbody>\n",
              "    <tr>\n",
              "      <th>0</th>\n",
              "      <td>0</td>\n",
              "      <td>0</td>\n",
              "      <td>0</td>\n",
              "      <td>2017-01-01 00:00:00</td>\n",
              "      <td>0</td>\n",
              "      <td>12.188745</td>\n",
              "    </tr>\n",
              "    <tr>\n",
              "      <th>1</th>\n",
              "      <td>129</td>\n",
              "      <td>0</td>\n",
              "      <td>0</td>\n",
              "      <td>2017-01-01 01:00:00</td>\n",
              "      <td>0</td>\n",
              "      <td>11.786506</td>\n",
              "    </tr>\n",
              "    <tr>\n",
              "      <th>2</th>\n",
              "      <td>258</td>\n",
              "      <td>0</td>\n",
              "      <td>0</td>\n",
              "      <td>2017-01-01 02:00:00</td>\n",
              "      <td>0</td>\n",
              "      <td>10.432342</td>\n",
              "    </tr>\n",
              "    <tr>\n",
              "      <th>3</th>\n",
              "      <td>387</td>\n",
              "      <td>0</td>\n",
              "      <td>0</td>\n",
              "      <td>2017-01-01 03:00:00</td>\n",
              "      <td>0</td>\n",
              "      <td>10.569687</td>\n",
              "    </tr>\n",
              "    <tr>\n",
              "      <th>4</th>\n",
              "      <td>516</td>\n",
              "      <td>0</td>\n",
              "      <td>0</td>\n",
              "      <td>2017-01-01 04:00:00</td>\n",
              "      <td>0</td>\n",
              "      <td>12.495078</td>\n",
              "    </tr>\n",
              "  </tbody>\n",
              "</table>\n",
              "</div>"
            ],
            "text/plain": [
              "   row_id  building_id  meter           timestamp  site_id  meter_reading\n",
              "0       0            0      0 2017-01-01 00:00:00        0      12.188745\n",
              "1     129            0      0 2017-01-01 01:00:00        0      11.786506\n",
              "2     258            0      0 2017-01-01 02:00:00        0      10.432342\n",
              "3     387            0      0 2017-01-01 03:00:00        0      10.569687\n",
              "4     516            0      0 2017-01-01 04:00:00        0      12.495078"
            ]
          },
          "metadata": {
            "tags": []
          },
          "execution_count": 106
        }
      ]
    },
    {
      "cell_type": "code",
      "metadata": {
        "id": "0P7M3RkAVv1c",
        "colab_type": "code",
        "colab": {}
      },
      "source": [
        "test_final.loc[(test_final['building_id'].isin(site_zero_buildings)) & (test_final['meter'] == 0),'meter_reading'] = test_final.loc[(test_final['building_id'].isin(site_zero_buildings)) & (test_final['meter'] == 0),'meter_reading']/kbtu_conversion_factor"
      ],
      "execution_count": 0,
      "outputs": []
    },
    {
      "cell_type": "code",
      "metadata": {
        "id": "KHgmw-ZxLbp2",
        "colab_type": "code",
        "colab": {}
      },
      "source": [
        "#test_final.to_csv(\"train_final.csv\",index=False)"
      ],
      "execution_count": 0,
      "outputs": []
    },
    {
      "cell_type": "code",
      "metadata": {
        "id": "k8IqwgTtDgDj",
        "colab_type": "code",
        "colab": {}
      },
      "source": [
        "submission_df = test_final[['row_id','meter_reading']]\n",
        "submission_df = submission_df.sort_values(by=[\"row_id\"])\n",
        "#test_final.to_csv(\"submission.csv\",index=False)"
      ],
      "execution_count": 0,
      "outputs": []
    },
    {
      "cell_type": "code",
      "metadata": {
        "id": "VFIDCZdvDkcq",
        "colab_type": "code",
        "colab": {}
      },
      "source": [
        "submission_df.to_csv(\"submission.csv\",index=False)"
      ],
      "execution_count": 0,
      "outputs": []
    },
    {
      "cell_type": "code",
      "metadata": {
        "id": "KwK5GX38c4Hy",
        "colab_type": "code",
        "colab": {}
      },
      "source": [
        "#test_final.loc[(test_final['building_id'].isin(site_zero_buildings)) & (test_final['meter'] == 0),'meter_reading'] = test_final.loc[(test_final['building_id'].isin(site_zero_buildings)) & (test_final['meter'] == 0),'meter_reading']/kbtu_conversion_factor"
      ],
      "execution_count": 0,
      "outputs": []
    },
    {
      "cell_type": "code",
      "metadata": {
        "id": "429AV_CXXTeD",
        "colab_type": "code",
        "colab": {}
      },
      "source": [
        "store = pd.read_csv('/content/submission.csv')"
      ],
      "execution_count": 0,
      "outputs": []
    },
    {
      "cell_type": "code",
      "metadata": {
        "id": "yynNGLe3aB_j",
        "colab_type": "code",
        "colab": {
          "base_uri": "https://localhost:8080/",
          "height": 34
        },
        "outputId": "fc5cbd52-a75c-45d2-d8fe-19ce13c696b7"
      },
      "source": [
        "store.shape"
      ],
      "execution_count": 119,
      "outputs": [
        {
          "output_type": "execute_result",
          "data": {
            "text/plain": [
              "(41697600, 2)"
            ]
          },
          "metadata": {
            "tags": []
          },
          "execution_count": 119
        }
      ]
    },
    {
      "cell_type": "code",
      "metadata": {
        "id": "FZbyD52HaN1f",
        "colab_type": "code",
        "colab": {}
      },
      "source": [
        "#Finally got the submission data with exact rows"
      ],
      "execution_count": 0,
      "outputs": []
    }
  ]
}