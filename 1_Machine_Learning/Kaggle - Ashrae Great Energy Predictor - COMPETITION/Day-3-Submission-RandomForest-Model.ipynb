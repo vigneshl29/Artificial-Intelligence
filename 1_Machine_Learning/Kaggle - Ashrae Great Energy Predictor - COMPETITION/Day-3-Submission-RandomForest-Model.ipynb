{
  "nbformat": 4,
  "nbformat_minor": 0,
  "metadata": {
    "colab": {
      "name": "GreatEnergyPredictor_Latest (7).ipynb",
      "provenance": [],
      "collapsed_sections": [],
      "machine_shape": "hm"
    },
    "kernelspec": {
      "name": "python3",
      "display_name": "Python 3"
    },
    "accelerator": "TPU"
  },
  "cells": [
    {
      "cell_type": "code",
      "metadata": {
        "id": "0-59eOtO8Bne",
        "colab_type": "code",
        "colab": {}
      },
      "source": [
        "#Kaggle link: https://www.kaggle.com/c/ashrae-energy-prediction\n",
        "import zipfile\n",
        "import pandas as pd\n",
        "with zipfile.ZipFile(\"/content/sample_data/ashrae-energy-prediction-final-test.zip\") as z:\n",
        "    with z.open(\"ashrae-energy-prediction/building_metadata.csv\") as f:\n",
        "        building_meta = pd.read_csv(f)\n",
        "    with z.open(\"ashrae-energy-prediction/train.csv\") as f:\n",
        "        train_data = pd.read_csv(f)\n",
        "    with z.open(\"ashrae-energy-prediction/weather_train.csv\") as f:\n",
        "        weather_train = pd.read_csv(f)\n",
        "    with z.open(\"ashrae-energy-prediction/weather_test.csv\") as f:\n",
        "        weather_test = pd.read_csv(f)\n",
        "    with z.open(\"ashrae-energy-prediction/test.csv\") as f:\n",
        "        test_data = pd.read_csv(f)"
      ],
      "execution_count": 0,
      "outputs": []
    },
    {
      "cell_type": "code",
      "metadata": {
        "id": "fWySV91L-JcX",
        "colab_type": "code",
        "colab": {}
      },
      "source": [
        "#weather_train.isnull().sum()"
      ],
      "execution_count": 0,
      "outputs": []
    },
    {
      "cell_type": "code",
      "metadata": {
        "id": "dYulY8nD_Atu",
        "colab_type": "code",
        "colab": {}
      },
      "source": [
        "weather_train['timestamp'] = pd.to_datetime(weather_train['timestamp'])"
      ],
      "execution_count": 0,
      "outputs": []
    },
    {
      "cell_type": "code",
      "metadata": {
        "id": "hvaLAJOX_T8V",
        "colab_type": "code",
        "colab": {}
      },
      "source": [
        "for site in weather_train['site_id'].unique():\n",
        "  #site_weather = weather_train[weather_train['site_id'] == site]\n",
        "  weather_train[weather_train['site_id'] == site] = weather_train[weather_train['site_id'] == site].interpolate(method=\"linear\")"
      ],
      "execution_count": 0,
      "outputs": []
    },
    {
      "cell_type": "code",
      "metadata": {
        "id": "mpGSQU_V_Y2Y",
        "colab_type": "code",
        "colab": {}
      },
      "source": [
        "weather_train_interpolated = pd.DataFrame([])"
      ],
      "execution_count": 0,
      "outputs": []
    },
    {
      "cell_type": "code",
      "metadata": {
        "id": "gZbegc2Q_eAR",
        "colab_type": "code",
        "colab": {}
      },
      "source": [
        "startDate = pd.to_datetime(\"2016-01-01 00:00:00\")\n",
        "endDate = pd.to_datetime(\"2016-12-31 23:00:00\")"
      ],
      "execution_count": 0,
      "outputs": []
    },
    {
      "cell_type": "code",
      "metadata": {
        "id": "RJceLGuN_efc",
        "colab_type": "code",
        "colab": {}
      },
      "source": [
        "for site in weather_train['site_id'].unique():\n",
        "  site_weather = weather_train[weather_train['site_id'] == site]\n",
        "  site_weather = site_weather.set_index('timestamp')\n",
        "  site_weather_reindexed = site_weather.resample(\"1H\")\n",
        "  #new_index = pd.date_range(startDate,endDate,freq=\"1H\")\n",
        "  #site_weather_reindexed = site_weather.reindex(new_index)\n",
        "  site_weather_reindexed = site_weather_reindexed.interpolate(method=\"linear\")\n",
        "  weather_train_interpolated = weather_train_interpolated.append(site_weather_reindexed)"
      ],
      "execution_count": 0,
      "outputs": []
    },
    {
      "cell_type": "code",
      "metadata": {
        "id": "-ueJ5ihY_fzK",
        "colab_type": "code",
        "colab": {}
      },
      "source": [
        "weather_train_interpolated = weather_train_interpolated.reset_index()"
      ],
      "execution_count": 0,
      "outputs": []
    },
    {
      "cell_type": "code",
      "metadata": {
        "id": "7E24a0RD_inB",
        "colab_type": "code",
        "colab": {}
      },
      "source": [
        "#weather_train_interpolated.isnull().sum()"
      ],
      "execution_count": 0,
      "outputs": []
    },
    {
      "cell_type": "code",
      "metadata": {
        "id": "_eqOLQJF_kj2",
        "colab_type": "code",
        "colab": {}
      },
      "source": [
        "#Filling missing values for sea_level_pressure with mean and precip_depth_1_hr, cloud_coverage with mode\n",
        "weather_train_interpolated.loc[(weather_train_interpolated['sea_level_pressure'].isnull()), 'sea_level_pressure'] = weather_train_interpolated['sea_level_pressure'].mean()\n",
        "#weather_train_interpolated.loc[(weather_train_interpolated['precip_depth_1_hr'].isnull()), 'precip_depth_1_hr'] = 0.0\n",
        "weather_train_interpolated.loc[(weather_train_interpolated['cloud_coverage'].isnull()), 'cloud_coverage'] = 0.0"
      ],
      "execution_count": 0,
      "outputs": []
    },
    {
      "cell_type": "code",
      "metadata": {
        "id": "tlIr3T6l_mbP",
        "colab_type": "code",
        "colab": {}
      },
      "source": [
        "#weather_train_interpolated.isnull().sum()"
      ],
      "execution_count": 0,
      "outputs": []
    },
    {
      "cell_type": "code",
      "metadata": {
        "id": "F-HT-d9W_nqR",
        "colab_type": "code",
        "colab": {}
      },
      "source": [
        "#building_meta.isnull().sum()"
      ],
      "execution_count": 0,
      "outputs": []
    },
    {
      "cell_type": "code",
      "metadata": {
        "id": "LDRTVJPc_qPE",
        "colab_type": "code",
        "colab": {}
      },
      "source": [
        "building_meta.loc[(building_meta['floor_count'].isnull()), 'floor_count'] = 1\n",
        "building_meta.loc[(building_meta['year_built'].isnull()), 'year_built'] = 1976.0"
      ],
      "execution_count": 0,
      "outputs": []
    },
    {
      "cell_type": "code",
      "metadata": {
        "id": "MuvBrD-t_sF5",
        "colab_type": "code",
        "colab": {}
      },
      "source": [
        "#Creating new feature called total area based on floor count and square feet\n",
        "building_meta['total_area'] = building_meta['floor_count'] * building_meta['square_feet']"
      ],
      "execution_count": 0,
      "outputs": []
    },
    {
      "cell_type": "code",
      "metadata": {
        "id": "zQyu8Stf_u4k",
        "colab_type": "code",
        "colab": {}
      },
      "source": [
        "#Dropping square feet and floor count column\n",
        "building_meta.drop(columns=['square_feet','floor_count'],inplace=True)"
      ],
      "execution_count": 0,
      "outputs": []
    },
    {
      "cell_type": "code",
      "metadata": {
        "id": "xuioiKBp_xLn",
        "colab_type": "code",
        "colab": {}
      },
      "source": [
        "#train_data.isnull().sum()"
      ],
      "execution_count": 0,
      "outputs": []
    },
    {
      "cell_type": "code",
      "metadata": {
        "id": "IxL6pJo1o8pN",
        "colab_type": "code",
        "colab": {}
      },
      "source": [
        "#building_meta = pd.get_dummies(building_meta, columns=['primary_use'])\n",
        "from sklearn import preprocessing\n",
        "label_encoder = preprocessing.LabelEncoder()\n",
        "building_meta['primary_use']= label_encoder.fit_transform(building_meta['primary_use'])"
      ],
      "execution_count": 0,
      "outputs": []
    },
    {
      "cell_type": "code",
      "metadata": {
        "id": "WHHFV86A_2xt",
        "colab_type": "code",
        "colab": {}
      },
      "source": [
        "merged_train_building = pd.merge(train_data, building_meta, on='building_id')"
      ],
      "execution_count": 0,
      "outputs": []
    },
    {
      "cell_type": "code",
      "metadata": {
        "id": "r_GWDRF5ATQ5",
        "colab_type": "code",
        "colab": {}
      },
      "source": [
        "#merged_train_building.head()"
      ],
      "execution_count": 0,
      "outputs": []
    },
    {
      "cell_type": "code",
      "metadata": {
        "id": "IMt8tShfAVUG",
        "colab_type": "code",
        "colab": {}
      },
      "source": [
        "#merged_train_building.dtypes\n",
        "merged_train_building['timestamp'] = pd.to_datetime(merged_train_building['timestamp'])"
      ],
      "execution_count": 0,
      "outputs": []
    },
    {
      "cell_type": "code",
      "metadata": {
        "id": "lczN-SH7AaNs",
        "colab_type": "code",
        "colab": {}
      },
      "source": [
        "#merged_train_building.head()"
      ],
      "execution_count": 0,
      "outputs": []
    },
    {
      "cell_type": "code",
      "metadata": {
        "id": "cT0o4LBuApOx",
        "colab_type": "code",
        "colab": {}
      },
      "source": [
        "#weather_train_interpolated.head()"
      ],
      "execution_count": 0,
      "outputs": []
    },
    {
      "cell_type": "code",
      "metadata": {
        "id": "CHGiy2GfAzXZ",
        "colab_type": "code",
        "colab": {}
      },
      "source": [
        "#merged_train_building.shape"
      ],
      "execution_count": 0,
      "outputs": []
    },
    {
      "cell_type": "code",
      "metadata": {
        "id": "brSFocGOA9Gh",
        "colab_type": "code",
        "colab": {}
      },
      "source": [
        "#weather_train_interpolated.shape"
      ],
      "execution_count": 0,
      "outputs": []
    },
    {
      "cell_type": "code",
      "metadata": {
        "id": "8A8JZI5ZA-5Q",
        "colab_type": "code",
        "colab": {}
      },
      "source": [
        "train = pd.merge(merged_train_building, weather_train_interpolated, on=['site_id','timestamp'])"
      ],
      "execution_count": 0,
      "outputs": []
    },
    {
      "cell_type": "code",
      "metadata": {
        "id": "molWNrlFCXQM",
        "colab_type": "code",
        "colab": {}
      },
      "source": [
        "site_zero_buildings = train[train['site_id'] == 0]['building_id'].values.flatten().tolist()"
      ],
      "execution_count": 0,
      "outputs": []
    },
    {
      "cell_type": "code",
      "metadata": {
        "id": "RhlOtZTXDXdL",
        "colab_type": "code",
        "colab": {}
      },
      "source": [
        "kbtu_conversion_factor = 0.293071\n",
        "train.loc[(train['building_id'].isin(site_zero_buildings)) & (train['meter'] == 0),'meter_reading'] = train.loc[(train['building_id'].isin(site_zero_buildings)) & (train['meter'] == 0),'meter_reading']*kbtu_conversion_factor"
      ],
      "execution_count": 0,
      "outputs": []
    },
    {
      "cell_type": "code",
      "metadata": {
        "id": "d-JN7igIDnDC",
        "colab_type": "code",
        "colab": {}
      },
      "source": [
        "train['weekday'] = train['timestamp'].dt.weekday"
      ],
      "execution_count": 0,
      "outputs": []
    },
    {
      "cell_type": "code",
      "metadata": {
        "id": "dDvRCMt_DsiC",
        "colab_type": "code",
        "colab": {}
      },
      "source": [
        "train['weekday'] = train['weekday'].isin([0,1,2,3,4])"
      ],
      "execution_count": 0,
      "outputs": []
    },
    {
      "cell_type": "code",
      "metadata": {
        "id": "UGlDVPmdDuAM",
        "colab_type": "code",
        "colab": {}
      },
      "source": [
        "#Extracting hour from timestamp\n",
        "train['hour'] = train['timestamp'].dt.hour"
      ],
      "execution_count": 0,
      "outputs": []
    },
    {
      "cell_type": "code",
      "metadata": {
        "id": "iQFkRCrjDxgn",
        "colab_type": "code",
        "colab": {}
      },
      "source": [
        "#Extracting month from timestamp\n",
        "train['month'] = train['timestamp'].dt.month"
      ],
      "execution_count": 0,
      "outputs": []
    },
    {
      "cell_type": "code",
      "metadata": {
        "id": "vZEXI8XGDynZ",
        "colab_type": "code",
        "colab": {}
      },
      "source": [
        "#Extracting year from timestamp\n",
        "train['year'] = train['timestamp'].dt.year"
      ],
      "execution_count": 0,
      "outputs": []
    },
    {
      "cell_type": "code",
      "metadata": {
        "id": "GWSedfAKD0w_",
        "colab_type": "code",
        "colab": {}
      },
      "source": [
        "#Creating new feature called building age based on this previous year and the year which building was build\n",
        "train['building_age'] = train['year'] - train['year_built']"
      ],
      "execution_count": 0,
      "outputs": []
    },
    {
      "cell_type": "code",
      "metadata": {
        "id": "wsN5aeQfD2RO",
        "colab_type": "code",
        "colab": {}
      },
      "source": [
        "#Drop unwanted columns related to year\n",
        "#train = train.drop(columns=['year_built', 'year'])\n",
        "del train['year_built']\n",
        "del train['year']"
      ],
      "execution_count": 0,
      "outputs": []
    },
    {
      "cell_type": "markdown",
      "metadata": {
        "id": "C9YG4x_3D9SZ",
        "colab_type": "text"
      },
      "source": [
        "**Data Normalization**"
      ]
    },
    {
      "cell_type": "code",
      "metadata": {
        "id": "mcz6v4zTD_LF",
        "colab_type": "code",
        "outputId": "3cc79d39-4c7d-4420-e127-30e282b370fa",
        "colab": {
          "base_uri": "https://localhost:8080/",
          "height": 34
        }
      },
      "source": [
        "from sklearn.preprocessing import PowerTransformer\n",
        "at_pt = PowerTransformer(method='yeo-johnson')\n",
        "train['air_temperature'] = at_pt.fit_transform(train[['air_temperature']])\n",
        "train['air_temperature'].skew()"
      ],
      "execution_count": 0,
      "outputs": [
        {
          "output_type": "execute_result",
          "data": {
            "text/plain": [
              "-0.15778677535064728"
            ]
          },
          "metadata": {
            "tags": []
          },
          "execution_count": 35
        }
      ]
    },
    {
      "cell_type": "code",
      "metadata": {
        "id": "LaTutGtDEJg2",
        "colab_type": "code",
        "outputId": "51ce1038-98d9-40a8-c138-674416418d65",
        "colab": {
          "base_uri": "https://localhost:8080/",
          "height": 34
        }
      },
      "source": [
        "cc_pt = PowerTransformer(method='yeo-johnson')\n",
        "train['cloud_coverage'] = cc_pt.fit_transform(train[['cloud_coverage']])\n",
        "train['cloud_coverage'].skew()"
      ],
      "execution_count": 0,
      "outputs": [
        {
          "output_type": "execute_result",
          "data": {
            "text/plain": [
              "-0.003063201517380995"
            ]
          },
          "metadata": {
            "tags": []
          },
          "execution_count": 36
        }
      ]
    },
    {
      "cell_type": "code",
      "metadata": {
        "id": "jR4pVcSuEPXN",
        "colab_type": "code",
        "colab": {}
      },
      "source": [
        "# dew_pt = PowerTransformer(method='yeo-johnson')\n",
        "# train['dew_temperature'] = dew_pt.fit_transform(train[['dew_temperature']])\n",
        "# print(train['dew_temperature'].skew())"
      ],
      "execution_count": 0,
      "outputs": []
    },
    {
      "cell_type": "code",
      "metadata": {
        "id": "e3TWjXzcEYmG",
        "colab_type": "code",
        "colab": {}
      },
      "source": [
        "# pre_pt = PowerTransformer(method='yeo-johnson')\n",
        "# train['precip_depth_1_hr'] = pre_pt.fit_transform(train[['precip_depth_1_hr']])\n",
        "# print(train['precip_depth_1_hr'].skew())"
      ],
      "execution_count": 0,
      "outputs": []
    },
    {
      "cell_type": "code",
      "metadata": {
        "id": "OLSXBsPTEeCN",
        "colab_type": "code",
        "outputId": "f66b8171-6417-4dc0-b4ed-487b5150a85b",
        "colab": {
          "base_uri": "https://localhost:8080/",
          "height": 34
        }
      },
      "source": [
        "ws_pt = PowerTransformer(method='yeo-johnson')\n",
        "train['wind_speed'] = ws_pt.fit_transform(train[['wind_speed']])\n",
        "print(train['wind_speed'].skew())"
      ],
      "execution_count": 0,
      "outputs": [
        {
          "output_type": "stream",
          "text": [
            "-0.021589399707228635\n"
          ],
          "name": "stdout"
        }
      ]
    },
    {
      "cell_type": "code",
      "metadata": {
        "id": "U3rR6GehEk5U",
        "colab_type": "code",
        "outputId": "ab0d4d98-bc1f-471f-c5ef-6d5ed07a4ae9",
        "colab": {
          "base_uri": "https://localhost:8080/",
          "height": 34
        }
      },
      "source": [
        "ta_pt = PowerTransformer(method='yeo-johnson')\n",
        "train['total_area'] = ta_pt.fit_transform(train[['total_area']])\n",
        "print(train['total_area'].skew())"
      ],
      "execution_count": 0,
      "outputs": [
        {
          "output_type": "stream",
          "text": [
            "0.01976005042213119\n"
          ],
          "name": "stdout"
        }
      ]
    },
    {
      "cell_type": "code",
      "metadata": {
        "id": "fzzW9rrAEpZe",
        "colab_type": "code",
        "outputId": "8851dd7f-bb13-44d1-f95f-96789cffed36",
        "colab": {
          "base_uri": "https://localhost:8080/",
          "height": 34
        }
      },
      "source": [
        "ba_pt = PowerTransformer(method='yeo-johnson')\n",
        "train['building_age'] = ba_pt.fit_transform(train[['building_age']])\n",
        "print(train['building_age'].skew())"
      ],
      "execution_count": 0,
      "outputs": [
        {
          "output_type": "stream",
          "text": [
            "0.24334356637168034\n"
          ],
          "name": "stdout"
        }
      ]
    },
    {
      "cell_type": "code",
      "metadata": {
        "id": "dnbn3ZYGE1Zk",
        "colab_type": "code",
        "outputId": "b1ea79a4-66cc-4bca-bd0a-646c362429c4",
        "colab": {
          "base_uri": "https://localhost:8080/",
          "height": 34
        }
      },
      "source": [
        "mr_pt = PowerTransformer(method='yeo-johnson')\n",
        "train['meter_reading'] = mr_pt.fit_transform(train[['meter_reading']])\n",
        "print(train['meter_reading'].skew())"
      ],
      "execution_count": 0,
      "outputs": [
        {
          "output_type": "stream",
          "text": [
            "0.0025713174838154786\n"
          ],
          "name": "stdout"
        }
      ]
    },
    {
      "cell_type": "code",
      "metadata": {
        "id": "UmfRWdITE5mP",
        "colab_type": "code",
        "colab": {}
      },
      "source": [
        "#train.head()"
      ],
      "execution_count": 0,
      "outputs": []
    },
    {
      "cell_type": "code",
      "metadata": {
        "id": "ROPprDyRFqda",
        "colab_type": "code",
        "colab": {}
      },
      "source": [
        "#One hot encoding\n",
        "#train = pd.get_dummies(train, columns=['primary_use'])"
      ],
      "execution_count": 0,
      "outputs": []
    },
    {
      "cell_type": "code",
      "metadata": {
        "id": "OTAoj2gEFs0W",
        "colab_type": "code",
        "colab": {}
      },
      "source": [
        "#train.head()"
      ],
      "execution_count": 0,
      "outputs": []
    },
    {
      "cell_type": "code",
      "metadata": {
        "id": "LR0MWR28HzYa",
        "colab_type": "code",
        "colab": {}
      },
      "source": [
        "target = train['meter_reading']\n",
        "del train['meter_reading']"
      ],
      "execution_count": 0,
      "outputs": []
    },
    {
      "cell_type": "code",
      "metadata": {
        "id": "ZTaebcMJIAqP",
        "colab_type": "code",
        "outputId": "d759e7c4-f291-43f7-83f2-7c09a210b61f",
        "colab": {
          "base_uri": "https://localhost:8080/",
          "height": 51
        }
      },
      "source": [
        "#Splitting\n",
        "from sklearn.model_selection import train_test_split\n",
        "X_train, X_test, y_train, y_test = train_test_split(train, target, test_size=0.05, random_state=9)\n",
        "print(X_train.shape)\n",
        "print(X_test.shape)"
      ],
      "execution_count": 0,
      "outputs": [
        {
          "output_type": "stream",
          "text": [
            "(19204236, 17)\n",
            "(1010750, 17)\n"
          ],
          "name": "stdout"
        }
      ]
    },
    {
      "cell_type": "code",
      "metadata": {
        "id": "ncgmg6yCIN6X",
        "colab_type": "code",
        "colab": {}
      },
      "source": [
        "def df_clean(df):\n",
        " #cols = ['meter', 'total_area', 'air_temperature', 'cloud_coverage', 'dew_temperature',  'precip_depth_1_hr',  'sea_level_pressure', 'wind_direction', 'wind_speed', 'weekday',  'hour', 'month',  'building_age', 'primary_use_Education',  'primary_use_Entertainment/public assembly',  'primary_use_Food sales and service', 'primary_use_Healthcare', 'primary_use_Lodging/residential',  'primary_use_Manufacturing/industrial', 'primary_use_Office', 'primary_use_Other',  'primary_use_Parking',  'primary_use_Public services',  'primary_use_Religious worship',  'primary_use_Retail', 'primary_use_Services', 'primary_use_Technology/science', 'primary_use_Utility',  'primary_use_Warehouse/storage']\n",
        " cols = ['meter', 'total_area', 'air_temperature', 'cloud_coverage', 'sea_level_pressure', 'wind_speed', 'weekday',  'hour', 'month',  'building_age', 'primary_use']\n",
        " #df_copy = df.copy()\n",
        " #df_copy = df_copy[cols]\n",
        " return df[cols]"
      ],
      "execution_count": 0,
      "outputs": []
    },
    {
      "cell_type": "code",
      "metadata": {
        "id": "_MYi9z4CIkMJ",
        "colab_type": "code",
        "colab": {}
      },
      "source": [
        "X_train_model = df_clean(X_train)\n",
        "X_test_model = df_clean(X_test)"
      ],
      "execution_count": 0,
      "outputs": []
    },
    {
      "cell_type": "code",
      "metadata": {
        "id": "mLqU-6mBI30l",
        "colab_type": "code",
        "colab": {}
      },
      "source": [
        "# def rmsle(expected, predicted):\n",
        "#    return np.sqrt(np.mean(np.square(np.log(predicted + 1) - np.log(expected + 1))))"
      ],
      "execution_count": 0,
      "outputs": []
    },
    {
      "cell_type": "code",
      "metadata": {
        "id": "8Uz2NVFlIxxe",
        "colab_type": "code",
        "outputId": "790ccd99-922f-477d-a1cb-d38a6f8049fc",
        "colab": {
          "base_uri": "https://localhost:8080/",
          "height": 136
        }
      },
      "source": [
        "#Training - Random Forest\n",
        "from sklearn.ensemble import RandomForestRegressor\n",
        "lr = RandomForestRegressor(max_features=4, min_samples_split=4, n_estimators=10, min_samples_leaf=2,n_jobs = -1)\n",
        "lr.fit(X_train_model, y_train)"
      ],
      "execution_count": 0,
      "outputs": [
        {
          "output_type": "execute_result",
          "data": {
            "text/plain": [
              "RandomForestRegressor(bootstrap=True, criterion='mse', max_depth=None,\n",
              "                      max_features=4, max_leaf_nodes=None,\n",
              "                      min_impurity_decrease=0.0, min_impurity_split=None,\n",
              "                      min_samples_leaf=2, min_samples_split=4,\n",
              "                      min_weight_fraction_leaf=0.0, n_estimators=10, n_jobs=-1,\n",
              "                      oob_score=False, random_state=None, verbose=0,\n",
              "                      warm_start=False)"
            ]
          },
          "metadata": {
            "tags": []
          },
          "execution_count": 51
        }
      ]
    },
    {
      "cell_type": "code",
      "metadata": {
        "id": "TuXZP9UZL6PJ",
        "colab_type": "code",
        "colab": {}
      },
      "source": [
        "# train_pred = lr.predict(X_train_model)\n",
        "# X_train['meter_reading_predicted'] = train_pred"
      ],
      "execution_count": 0,
      "outputs": []
    },
    {
      "cell_type": "code",
      "metadata": {
        "id": "TLjE60FFMQDF",
        "colab_type": "code",
        "colab": {}
      },
      "source": [
        "# X_train['meter_reading_predicted'] = mr_pt.inverse_transform(X_train['meter_reading_predicted'].values.reshape([-1,1]))"
      ],
      "execution_count": 0,
      "outputs": []
    },
    {
      "cell_type": "code",
      "metadata": {
        "id": "0S08xHktMleF",
        "colab_type": "code",
        "colab": {}
      },
      "source": [
        "# X_train.head()"
      ],
      "execution_count": 0,
      "outputs": []
    },
    {
      "cell_type": "code",
      "metadata": {
        "id": "ABs4lMPzM3Gx",
        "colab_type": "code",
        "colab": {}
      },
      "source": [
        "# X_train.loc[(X_train['building_id'].isin(site_zero_buildings)) & (X_train['meter'] == 0),'meter_reading_predicted'] = X_train.loc[(X_train['building_id'].isin(site_zero_buildings)) & (X_train['meter'] == 0),'meter_reading_predicted']/kbtu_conversion_factor"
      ],
      "execution_count": 0,
      "outputs": []
    },
    {
      "cell_type": "code",
      "metadata": {
        "id": "8lPx9QE1NqWN",
        "colab_type": "code",
        "colab": {}
      },
      "source": [
        "# X_train['meter_reading'] = mr_pt.inverse_transform(y_train.values.reshape([-1,1]))"
      ],
      "execution_count": 0,
      "outputs": []
    },
    {
      "cell_type": "code",
      "metadata": {
        "id": "mSZabCzZN2wa",
        "colab_type": "code",
        "colab": {}
      },
      "source": [
        "# X_train.loc[(X_train['building_id'].isin(site_zero_buildings)) & (X_train['meter'] == 0),'meter_reading'] = X_train.loc[(X_train['building_id'].isin(site_zero_buildings)) & (X_train['meter'] == 0),'meter_reading']/kbtu_conversion_factor"
      ],
      "execution_count": 0,
      "outputs": []
    },
    {
      "cell_type": "code",
      "metadata": {
        "id": "jWtzhCJ8OEGx",
        "colab_type": "code",
        "colab": {}
      },
      "source": [
        "# import numpy as np\n",
        "# print('RMSLE:', rmsle(X_train['meter_reading'], X_train['meter_reading_predicted']))"
      ],
      "execution_count": 0,
      "outputs": []
    },
    {
      "cell_type": "code",
      "metadata": {
        "id": "NAPRyDHtOodi",
        "colab_type": "code",
        "colab": {}
      },
      "source": [
        "# train_pred = lr.predict(X_test_model)\n",
        "# X_test['meter_reading_predicted'] = train_pred"
      ],
      "execution_count": 0,
      "outputs": []
    },
    {
      "cell_type": "code",
      "metadata": {
        "id": "ICA8BCqFPlHQ",
        "colab_type": "code",
        "colab": {}
      },
      "source": [
        "# X_test['meter_reading_predicted'] = mr_pt.inverse_transform(X_test['meter_reading_predicted'].values.reshape([-1,1]))"
      ],
      "execution_count": 0,
      "outputs": []
    },
    {
      "cell_type": "code",
      "metadata": {
        "id": "sWyx7d6QPrG-",
        "colab_type": "code",
        "colab": {}
      },
      "source": [
        "# X_test.loc[(X_test['building_id'].isin(site_zero_buildings)) & (X_test['meter'] == 0),'meter_reading_predicted'] = X_test.loc[(X_test['building_id'].isin(site_zero_buildings)) & (X_test['meter'] == 0),'meter_reading_predicted']/kbtu_conversion_factor"
      ],
      "execution_count": 0,
      "outputs": []
    },
    {
      "cell_type": "code",
      "metadata": {
        "id": "ru5Xkos0QDOS",
        "colab_type": "code",
        "colab": {}
      },
      "source": [
        "# X_test['meter_reading'] = mr_pt.inverse_transform(y_test.values.reshape([-1,1]))"
      ],
      "execution_count": 0,
      "outputs": []
    },
    {
      "cell_type": "code",
      "metadata": {
        "id": "NbeheAUmQX6b",
        "colab_type": "code",
        "colab": {}
      },
      "source": [
        "# X_test.loc[(X_test['building_id'].isin(site_zero_buildings)) & (X_test['meter'] == 0),'meter_reading'] = X_test.loc[(X_test['building_id'].isin(site_zero_buildings)) & (X_test['meter'] == 0),'meter_reading']/kbtu_conversion_factor"
      ],
      "execution_count": 0,
      "outputs": []
    },
    {
      "cell_type": "code",
      "metadata": {
        "id": "Ct3JG4C3QjIf",
        "colab_type": "code",
        "colab": {}
      },
      "source": [
        "# print('Test RMSLE:', rmsle(X_test['meter_reading'], X_test['meter_reading_predicted']))"
      ],
      "execution_count": 0,
      "outputs": []
    },
    {
      "cell_type": "code",
      "metadata": {
        "id": "TZzBSVOcQr1E",
        "colab_type": "code",
        "colab": {}
      },
      "source": [
        "# import joblib\n",
        "# joblib.dump([lr,at_pt,cc_pt,dew_pt,pre_pt,ws_pt,ta_pt,ba_pt,mr_pt],'lr_model.pkl')"
      ],
      "execution_count": 0,
      "outputs": []
    },
    {
      "cell_type": "code",
      "metadata": {
        "id": "9NRsL5UORf8f",
        "colab_type": "code",
        "colab": {}
      },
      "source": [
        "# test_data.head()"
      ],
      "execution_count": 0,
      "outputs": []
    },
    {
      "cell_type": "code",
      "metadata": {
        "id": "gT-yO0R6Rpfo",
        "colab_type": "code",
        "colab": {}
      },
      "source": [
        "# weather_test.head()"
      ],
      "execution_count": 0,
      "outputs": []
    },
    {
      "cell_type": "code",
      "metadata": {
        "id": "_DqNI4mORuk5",
        "colab_type": "code",
        "colab": {}
      },
      "source": [
        "weather_test['timestamp'] = pd.to_datetime(weather_test['timestamp'])\n",
        "test_data['timestamp'] = pd.to_datetime(test_data['timestamp'])"
      ],
      "execution_count": 0,
      "outputs": []
    },
    {
      "cell_type": "code",
      "metadata": {
        "id": "owFb8jMXR6BH",
        "colab_type": "code",
        "colab": {}
      },
      "source": [
        "for site in weather_test['site_id'].unique():\n",
        "  weather_test[weather_test['site_id'] == site] = weather_test[weather_test['site_id'] == site].interpolate(method=\"linear\")"
      ],
      "execution_count": 0,
      "outputs": []
    },
    {
      "cell_type": "code",
      "metadata": {
        "id": "E5-lAG2aSQ_Z",
        "colab_type": "code",
        "colab": {}
      },
      "source": [
        "# weather_test.isnull().sum()"
      ],
      "execution_count": 0,
      "outputs": []
    },
    {
      "cell_type": "code",
      "metadata": {
        "id": "S_CgEYDXSYD4",
        "colab_type": "code",
        "colab": {}
      },
      "source": [
        "#Filling missing values for sea_level_pressure with mean and precip_depth_1_hr, cloud_coverage with mode\n",
        "weather_test.loc[(weather_test['sea_level_pressure'].isnull()), 'sea_level_pressure'] = weather_test['sea_level_pressure'].mean()\n",
        "#weather_test.loc[(weather_test['precip_depth_1_hr'].isnull()), 'precip_depth_1_hr'] = 0.0\n",
        "weather_test.loc[(weather_test['cloud_coverage'].isnull()), 'cloud_coverage'] = 0.0"
      ],
      "execution_count": 0,
      "outputs": []
    },
    {
      "cell_type": "code",
      "metadata": {
        "id": "y7Z-ZuXJS6Nj",
        "colab_type": "code",
        "colab": {}
      },
      "source": [
        "# test_data.shape"
      ],
      "execution_count": 0,
      "outputs": []
    },
    {
      "cell_type": "code",
      "metadata": {
        "id": "SfZS7MlkSrIt",
        "colab_type": "code",
        "colab": {}
      },
      "source": [
        "merged_test_building = pd.merge(test_data, building_meta, on='building_id')"
      ],
      "execution_count": 0,
      "outputs": []
    },
    {
      "cell_type": "code",
      "metadata": {
        "id": "qarRUkSsS9ZK",
        "colab_type": "code",
        "colab": {}
      },
      "source": [
        "# merged_test_building.shape"
      ],
      "execution_count": 0,
      "outputs": []
    },
    {
      "cell_type": "code",
      "metadata": {
        "id": "yTvYaDmQS_0K",
        "colab_type": "code",
        "colab": {}
      },
      "source": [
        "test_final = pd.merge(merged_test_building, weather_test, on=['site_id','timestamp'],how=\"left\")"
      ],
      "execution_count": 0,
      "outputs": []
    },
    {
      "cell_type": "code",
      "metadata": {
        "id": "pT5qiqotTQlN",
        "colab_type": "code",
        "colab": {}
      },
      "source": [
        "# test_final.shape"
      ],
      "execution_count": 0,
      "outputs": []
    },
    {
      "cell_type": "code",
      "metadata": {
        "id": "K3jrfpUFTTvb",
        "colab_type": "code",
        "colab": {}
      },
      "source": [
        "# test_final.isnull().sum()"
      ],
      "execution_count": 0,
      "outputs": []
    },
    {
      "cell_type": "code",
      "metadata": {
        "id": "-wUtROSZZHqX",
        "colab_type": "code",
        "colab": {}
      },
      "source": [
        "test_final.loc[(test_final['air_temperature'].isnull()), 'air_temperature'] = test_final['air_temperature'].mean()\n",
        "test_final.loc[(test_final['cloud_coverage'].isnull()), 'cloud_coverage'] = test_final['cloud_coverage'].mean()\n",
        "#test_final.loc[(test_final['dew_temperature'].isnull()), 'dew_temperature'] = test_final['dew_temperature'].mean()\n",
        "#test_final.loc[(test_final['precip_depth_1_hr'].isnull()), 'precip_depth_1_hr'] = 0\n",
        "test_final.loc[(test_final['sea_level_pressure'].isnull()), 'sea_level_pressure'] = test_final['sea_level_pressure'].mean()\n",
        "#test_final.loc[(test_final['wind_direction'].isnull()), 'wind_direction'] = test_final['wind_direction'].mean()\n",
        "test_final.loc[(test_final['wind_speed'].isnull()), 'wind_speed'] = test_final['wind_speed'].mean()"
      ],
      "execution_count": 0,
      "outputs": []
    },
    {
      "cell_type": "code",
      "metadata": {
        "id": "LfjC2RdwZyWL",
        "colab_type": "code",
        "colab": {}
      },
      "source": [
        "test_final['weekday'] = test_final['timestamp'].dt.weekday"
      ],
      "execution_count": 0,
      "outputs": []
    },
    {
      "cell_type": "code",
      "metadata": {
        "id": "9wTVySrLaayq",
        "colab_type": "code",
        "colab": {}
      },
      "source": [
        "test_final['weekday'] = test_final['weekday'].isin([0,1,2,3,4])"
      ],
      "execution_count": 0,
      "outputs": []
    },
    {
      "cell_type": "code",
      "metadata": {
        "id": "4ePmzSmhaewP",
        "colab_type": "code",
        "colab": {}
      },
      "source": [
        "test_final['hour'] = test_final['timestamp'].dt.hour"
      ],
      "execution_count": 0,
      "outputs": []
    },
    {
      "cell_type": "code",
      "metadata": {
        "id": "_QVFRBtUagmr",
        "colab_type": "code",
        "colab": {}
      },
      "source": [
        "test_final['month'] = test_final['timestamp'].dt.month"
      ],
      "execution_count": 0,
      "outputs": []
    },
    {
      "cell_type": "code",
      "metadata": {
        "id": "AQZEXOxVaijN",
        "colab_type": "code",
        "colab": {}
      },
      "source": [
        "test_final['year'] = test_final['timestamp'].dt.year"
      ],
      "execution_count": 0,
      "outputs": []
    },
    {
      "cell_type": "code",
      "metadata": {
        "id": "D-x-LH-aakqN",
        "colab_type": "code",
        "colab": {}
      },
      "source": [
        "test_final['building_age'] = test_final['year'] - test_final['year_built']"
      ],
      "execution_count": 0,
      "outputs": []
    },
    {
      "cell_type": "code",
      "metadata": {
        "id": "WFfsPfFZaoWv",
        "colab_type": "code",
        "colab": {}
      },
      "source": [
        "del test_final['year_built']\n",
        "del test_final['year']"
      ],
      "execution_count": 0,
      "outputs": []
    },
    {
      "cell_type": "code",
      "metadata": {
        "id": "IFOhJhaja57h",
        "colab_type": "code",
        "colab": {}
      },
      "source": [
        "test_final['air_temperature'] = at_pt.transform(test_final[['air_temperature']])"
      ],
      "execution_count": 0,
      "outputs": []
    },
    {
      "cell_type": "code",
      "metadata": {
        "id": "D718LOEna6sM",
        "colab_type": "code",
        "colab": {}
      },
      "source": [
        "test_final['cloud_coverage'] = cc_pt.transform(test_final[['cloud_coverage']])"
      ],
      "execution_count": 0,
      "outputs": []
    },
    {
      "cell_type": "code",
      "metadata": {
        "id": "Cn_8KlpPa_2p",
        "colab_type": "code",
        "colab": {}
      },
      "source": [
        "#['dew_temperature'] = dew_pt.transform(test_final[['dew_temperature']])"
      ],
      "execution_count": 0,
      "outputs": []
    },
    {
      "cell_type": "code",
      "metadata": {
        "id": "Np3paEkibCwd",
        "colab_type": "code",
        "colab": {}
      },
      "source": [
        "#test_final['precip_depth_1_hr'] = pre_pt.transform(test_final[['precip_depth_1_hr']])"
      ],
      "execution_count": 0,
      "outputs": []
    },
    {
      "cell_type": "code",
      "metadata": {
        "id": "1gEkpYxHbFJp",
        "colab_type": "code",
        "colab": {}
      },
      "source": [
        "test_final['wind_speed'] = ws_pt.transform(test_final[['wind_speed']])"
      ],
      "execution_count": 0,
      "outputs": []
    },
    {
      "cell_type": "code",
      "metadata": {
        "id": "m_ZB24HhbHqr",
        "colab_type": "code",
        "colab": {}
      },
      "source": [
        "test_final['total_area'] = ta_pt.transform(test_final[['total_area']])"
      ],
      "execution_count": 0,
      "outputs": []
    },
    {
      "cell_type": "code",
      "metadata": {
        "id": "dIAXL58HbKhA",
        "colab_type": "code",
        "colab": {}
      },
      "source": [
        "test_final['building_age'] = ba_pt.transform(test_final[['building_age']])"
      ],
      "execution_count": 0,
      "outputs": []
    },
    {
      "cell_type": "code",
      "metadata": {
        "id": "u93_Jfajb6ju",
        "colab_type": "code",
        "colab": {}
      },
      "source": [
        "x_test_final_model = df_clean(test_final)"
      ],
      "execution_count": 0,
      "outputs": []
    },
    {
      "cell_type": "code",
      "metadata": {
        "id": "BJYVOCI9ccLg",
        "colab_type": "code",
        "colab": {}
      },
      "source": [
        "#test_final_pred = lr.predict(x_test_final_model)\n",
        "#test_final['meter_reading'] = test_final_pred"
      ],
      "execution_count": 0,
      "outputs": []
    },
    {
      "cell_type": "code",
      "metadata": {
        "id": "Sj3wEjJPr0-m",
        "colab_type": "code",
        "colab": {}
      },
      "source": [
        "small_count = int(len(x_test_final_model)/10)\n",
        "test_final_latest = pd.DataFrame([])\n",
        "for i in range(10):\n",
        "  #test_final_pred = lr.predict(x_test_final_model[small_count*i:small_count*(i+1)])\n",
        "  test_final_latest = test_final_latest.append(pd.DataFrame(lr.predict(x_test_final_model[small_count*i:small_count*(i+1)])))"
      ],
      "execution_count": 0,
      "outputs": []
    },
    {
      "cell_type": "code",
      "metadata": {
        "id": "WcPc8vH5tJTJ",
        "colab_type": "code",
        "colab": {}
      },
      "source": [
        "test_final['meter_reading'] = test_final_latest.values.flatten()"
      ],
      "execution_count": 0,
      "outputs": []
    },
    {
      "cell_type": "code",
      "metadata": {
        "id": "JClBQikhckTx",
        "colab_type": "code",
        "colab": {}
      },
      "source": [
        "test_final['meter_reading'] = mr_pt.inverse_transform(test_final['meter_reading'].values.reshape([-1,1]))"
      ],
      "execution_count": 0,
      "outputs": []
    },
    {
      "cell_type": "code",
      "metadata": {
        "id": "Rz3_noCkLRBY",
        "colab_type": "code",
        "colab": {}
      },
      "source": [
        "#test_final.loc[(test_final['building_id'].isin(site_zero_buildings)) & (test_final['meter'] == 0),'meter_reading'] = test_final.loc[(test_final['building_id'].isin(site_zero_buildings)) & (test_final['meter'] == 0),'meter_reading']/kbtu_conversion_factor"
      ],
      "execution_count": 0,
      "outputs": []
    },
    {
      "cell_type": "code",
      "metadata": {
        "id": "6rkHgJHlTmjl",
        "colab_type": "code",
        "colab": {}
      },
      "source": [
        "del test_final['total_area']\n",
        "del test_final['air_temperature']\n",
        "del test_final['cloud_coverage']\n",
        "#del test_final['dew_temperature']\n",
        "#del test_final['precip_depth_1_hr']\n",
        "del test_final['sea_level_pressure']\n",
        "#del test_final['wind_direction']\n",
        "del test_final['wind_speed']\n",
        "del test_final['weekday']\n",
        "del test_final['hour']\n",
        "del test_final['month']\n",
        "del test_final['building_age']\n",
        "del test_final['primary_use']\n",
        "# del test_final['primary_use_Entertainment/public assembly']\n",
        "# del test_final['primary_use_Food sales and service']\n",
        "# del test_final['primary_use_Healthcare']\n",
        "# del test_final['primary_use_Lodging/residential']\n",
        "# del test_final['primary_use_Manufacturing/industrial']\n",
        "# del test_final['primary_use_Office']\n",
        "# del test_final['primary_use_Other']\n",
        "# del test_final['primary_use_Parking']\n",
        "# del test_final['primary_use_Public']\n",
        "# del test_final['primary_use_Religious worship']\n",
        "# del test_final['primary_use_Retail']\n",
        "# #del test_final['primary_use_Services']\n",
        "# del test_final['primary_use_Technology/science']\n",
        "# del test_final['primary_use_Utility']\n",
        "# del test_final['primary_use_Warehouse/storage']\n"
      ],
      "execution_count": 0,
      "outputs": []
    },
    {
      "cell_type": "code",
      "metadata": {
        "id": "X5s4oZr_VP59",
        "colab_type": "code",
        "colab": {}
      },
      "source": [
        "#del test_final['primary_use_Public services']"
      ],
      "execution_count": 0,
      "outputs": []
    },
    {
      "cell_type": "code",
      "metadata": {
        "id": "hyLlyZPlU-nC",
        "colab_type": "code",
        "colab": {}
      },
      "source": [
        "#test_final.head()"
      ],
      "execution_count": 0,
      "outputs": []
    },
    {
      "cell_type": "code",
      "metadata": {
        "id": "0P7M3RkAVv1c",
        "colab_type": "code",
        "colab": {}
      },
      "source": [
        "test_final.loc[(test_final['building_id'].isin(site_zero_buildings)) & (test_final['meter'] == 0),'meter_reading'] = test_final.loc[(test_final['building_id'].isin(site_zero_buildings)) & (test_final['meter'] == 0),'meter_reading']/kbtu_conversion_factor"
      ],
      "execution_count": 0,
      "outputs": []
    },
    {
      "cell_type": "code",
      "metadata": {
        "id": "KHgmw-ZxLbp2",
        "colab_type": "code",
        "colab": {}
      },
      "source": [
        "#test_final.to_csv(\"train_final.csv\",index=False)"
      ],
      "execution_count": 0,
      "outputs": []
    },
    {
      "cell_type": "code",
      "metadata": {
        "id": "k8IqwgTtDgDj",
        "colab_type": "code",
        "colab": {}
      },
      "source": [
        "submission_df = test_final[['row_id','meter_reading']]\n",
        "submission_df = submission_df.sort_values(by=[\"row_id\"])\n",
        "#test_final.to_csv(\"submission.csv\",index=False)"
      ],
      "execution_count": 0,
      "outputs": []
    },
    {
      "cell_type": "code",
      "metadata": {
        "id": "VFIDCZdvDkcq",
        "colab_type": "code",
        "colab": {}
      },
      "source": [
        "submission_df.to_csv(\"submission_rf.csv\",index=False)"
      ],
      "execution_count": 0,
      "outputs": []
    },
    {
      "cell_type": "code",
      "metadata": {
        "id": "KwK5GX38c4Hy",
        "colab_type": "code",
        "colab": {}
      },
      "source": [
        "#test_final.loc[(test_final['building_id'].isin(site_zero_buildings)) & (test_final['meter'] == 0),'meter_reading'] = test_final.loc[(test_final['building_id'].isin(site_zero_buildings)) & (test_final['meter'] == 0),'meter_reading']/kbtu_conversion_factor"
      ],
      "execution_count": 0,
      "outputs": []
    },
    {
      "cell_type": "code",
      "metadata": {
        "id": "429AV_CXXTeD",
        "colab_type": "code",
        "colab": {}
      },
      "source": [
        "#store = pd.read_csv('/content/submission.csv')"
      ],
      "execution_count": 0,
      "outputs": []
    },
    {
      "cell_type": "code",
      "metadata": {
        "id": "yynNGLe3aB_j",
        "colab_type": "code",
        "colab": {}
      },
      "source": [
        "#store.shape"
      ],
      "execution_count": 0,
      "outputs": []
    },
    {
      "cell_type": "code",
      "metadata": {
        "id": "FZbyD52HaN1f",
        "colab_type": "code",
        "colab": {}
      },
      "source": [
        "#Finally got the submission data with exact rows"
      ],
      "execution_count": 0,
      "outputs": []
    }
  ]
}