{
  "nbformat": 4,
  "nbformat_minor": 0,
  "metadata": {
    "colab": {
      "name": "Language_Translation.ipynb",
      "provenance": []
    },
    "kernelspec": {
      "name": "python3",
      "display_name": "Python 3"
    }
  },
  "cells": [
    {
      "cell_type": "code",
      "metadata": {
        "id": "z9BTKgBJ7nuy",
        "colab_type": "code",
        "colab": {}
      },
      "source": [
        "!pip install googletrans"
      ],
      "execution_count": null,
      "outputs": []
    },
    {
      "cell_type": "code",
      "metadata": {
        "id": "1Nw_025i8OkO",
        "colab_type": "code",
        "colab": {}
      },
      "source": [
        "from googletrans import Translator"
      ],
      "execution_count": null,
      "outputs": []
    },
    {
      "cell_type": "code",
      "metadata": {
        "id": "xJe5Fj4p93lB",
        "colab_type": "code",
        "colab": {}
      },
      "source": [
        "translator = Translator()"
      ],
      "execution_count": null,
      "outputs": []
    },
    {
      "cell_type": "code",
      "metadata": {
        "id": "4VztbBxq97rB",
        "colab_type": "code",
        "colab": {}
      },
      "source": [
        "eng2tam = translator.translate('hi, how are you', src='en', dest='ta')"
      ],
      "execution_count": null,
      "outputs": []
    },
    {
      "cell_type": "code",
      "metadata": {
        "id": "egxulLjU-GDU",
        "colab_type": "code",
        "colab": {
          "base_uri": "https://localhost:8080/",
          "height": 55
        },
        "outputId": "85259d15-142c-4cb1-b481-da14f984546b"
      },
      "source": [
        "print(eng2tam)"
      ],
      "execution_count": null,
      "outputs": [
        {
          "output_type": "stream",
          "text": [
            "Translated(src=en, dest=ta, text=ஹாய், நீங்கள் எப்படி இருக்கிறீர்கள், pronunciation=Hāy, nīṅkaḷ eppaṭi irukkiṟīrkaḷ, extra_data=\"{'translat...\")\n"
          ],
          "name": "stdout"
        }
      ]
    },
    {
      "cell_type": "code",
      "metadata": {
        "id": "cJV8Wkm3_AtI",
        "colab_type": "code",
        "colab": {
          "base_uri": "https://localhost:8080/",
          "height": 35
        },
        "outputId": "986241bb-8af4-4964-9731-d620539a1f7e"
      },
      "source": [
        "print(eng2tam.text)"
      ],
      "execution_count": null,
      "outputs": [
        {
          "output_type": "stream",
          "text": [
            "ஹாய், நீங்கள் எப்படி இருக்கிறீர்கள்\n"
          ],
          "name": "stdout"
        }
      ]
    },
    {
      "cell_type": "code",
      "metadata": {
        "id": "qlf86F3p-ppV",
        "colab_type": "code",
        "colab": {}
      },
      "source": [
        "tam2eng = translator.translate('ஹாய், நீங்கள் எப்படி இருக்கிறீர்கள்', src='ta', dest='en')"
      ],
      "execution_count": null,
      "outputs": []
    },
    {
      "cell_type": "code",
      "metadata": {
        "id": "5-kFFMy1-vIm",
        "colab_type": "code",
        "colab": {
          "base_uri": "https://localhost:8080/",
          "height": 35
        },
        "outputId": "46b663e5-8569-4908-fe3f-fa8fd8886983"
      },
      "source": [
        "print(tam2eng)"
      ],
      "execution_count": null,
      "outputs": [
        {
          "output_type": "stream",
          "text": [
            "Translated(src=ta, dest=en, text=Hi, how are you, pronunciation=None, extra_data=\"{'translat...\")\n"
          ],
          "name": "stdout"
        }
      ]
    },
    {
      "cell_type": "code",
      "metadata": {
        "id": "sfqB-_49-yth",
        "colab_type": "code",
        "colab": {
          "base_uri": "https://localhost:8080/",
          "height": 35
        },
        "outputId": "676cdf9f-aac1-4a98-ae0a-6a614fe10ea8"
      },
      "source": [
        "print(tam2eng.text)"
      ],
      "execution_count": null,
      "outputs": [
        {
          "output_type": "stream",
          "text": [
            "Hi, how are you\n"
          ],
          "name": "stdout"
        }
      ]
    }
  ]
}